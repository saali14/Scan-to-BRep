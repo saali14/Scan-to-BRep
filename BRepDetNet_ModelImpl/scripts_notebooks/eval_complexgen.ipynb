{
 "cells": [
  {
   "cell_type": "code",
   "execution_count": 5,
   "metadata": {},
   "outputs": [
    {
     "name": "stdout",
     "output_type": "stream",
     "text": [
      "Jupyter environment detected. Enabling Open3D WebVisualizer.\n",
      "[Open3D INFO] WebRTC GUI backend enabled.\n",
      "[Open3D INFO] WebRTCWindowSystem: HTTP handshake server disabled.\n"
     ]
    }
   ],
   "source": [
    "import pandas as pd\n",
    "import numpy as np\n",
    "import matplotlib.pyplot as plt\n",
    "import seaborn as sns\n",
    "import concurrent\n",
    "import os,sys\n",
    "from sklearn.metrics import (precision_recall_curve,\n",
    "                             confusion_matrix,\n",
    "                             precision_score,recall_score,f1_score)\n",
    "from cgan_mapper import *\n",
    "from tqdm.notebook import tqdm\n",
    "\n",
    "import warnings\n",
    "warnings.filterwarnings(\"ignore\")"
   ]
  },
  {
   "cell_type": "code",
   "execution_count": 6,
   "metadata": {},
   "outputs": [],
   "source": [
    "def get_files_scan_one_cpu(dir):\n",
    "    \"\"\"Get the path of all the files in nested folders\"\"\"\n",
    "    all_files = []\n",
    "    for entry in os.scandir(dir):\n",
    "        if entry.is_file():\n",
    "            all_files.append(entry.path)\n",
    "        elif entry.is_dir():\n",
    "            all_files.extend(get_files_scan(entry.path))\n",
    "    if len(all_files) > 0:\n",
    "        return all_files\n",
    "    else:\n",
    "        raise FileNotFoundError(\"No Files found. Please check your directory.\")\n",
    "\n",
    "def scan_files_in_folder(folder):\n",
    "    \"\"\"Scans files in a folder and returns a list of file paths.\"\"\"\n",
    "    files = []\n",
    "    for entry in os.scandir(folder):\n",
    "        if entry.is_file():\n",
    "            files.append(entry.path)\n",
    "        elif entry.is_dir():\n",
    "            files.extend(scan_files_in_folder(entry.path))\n",
    "    return files\n",
    "\n",
    "def get_files_scan(dir,max_workers=1):\n",
    "    \"\"\"Get the path of all the files in nested folders using concurrent.futures.\"\"\"\n",
    "    all_files = []\n",
    "    if max_workers==1:\n",
    "        return get_files_scan_one_cpu(dir)\n",
    "    else:\n",
    "        with concurrent.futures.ThreadPoolExecutor(max_workers=max_workers) as executor:\n",
    "            future_to_dir = {executor.submit(scan_files_in_folder, entry.path): entry.path for entry in os.scandir(dir)}\n",
    "            for future in concurrent.futures.as_completed(future_to_dir):\n",
    "                folder = future_to_dir[future]\n",
    "                try:\n",
    "                    all_files.extend(future.result())\n",
    "                except Exception as e:\n",
    "                    print(f\"An error occurred while scanning {folder}: {e}\")\n",
    "\n",
    "        if len(all_files) > 0:\n",
    "            return all_files\n",
    "        else:\n",
    "            raise FileNotFoundError(\"No Files found. Please check your directory.\")"
   ]
  },
  {
   "cell_type": "code",
   "execution_count": 7,
   "metadata": {},
   "outputs": [],
   "source": [
    "CC3D_BDN_PATH=\"/mnt/isilon/mkhan/scan2brep/test/BRepEd/version_10\"\n",
    "ABC_BDN_PATH=\"/mnt/isilon/mkhan/scan2brep/test/BRepEd/version_8/\"\n",
    "ABC_JNC_PATH=\"/mnt/isilon/mkhan/scan2brep/test/BRepJd/version_0/\"\n",
    "\n",
    "\n",
    "CC3D_CG_PATH=\"/mnt/isilon/mkhan/complexgen/cc3d/ComplexGen/\"\n",
    "ABC_CG_PATH=\"/mnt/isilon/mkhan/complexgen/abc/ComplexGen/\""
   ]
  },
  {
   "cell_type": "markdown",
   "metadata": {},
   "source": [
    "# CC3D - Boundary (Model Trained on CC3D and Tested on CC3D)"
   ]
  },
  {
   "cell_type": "code",
   "execution_count": 8,
   "metadata": {},
   "outputs": [],
   "source": [
    "all_files_cc3d=root_dict(CC3D_CG_PATH)\n",
    "\n",
    "cc3d_bndry_gt_files=get_files_scan(os.path.join(CC3D_BDN_PATH,\"bndry\",\"gt\"),4)\n",
    "cc3d_bndry_pred_files=get_files_scan(os.path.join(CC3D_BDN_PATH,\"bndry\",\"pred\"),4)"
   ]
  },
  {
   "cell_type": "code",
   "execution_count": 5,
   "metadata": {},
   "outputs": [],
   "source": [
    "def read_txt(path):\n",
    "    # Open the file in read mode\n",
    "    with open(path, 'r') as file:\n",
    "        # Read all lines and store them in a list\n",
    "        lines = file.readlines()\n",
    "\n",
    "    lines=[s.strip(\"\\n\") for s in lines]\n",
    "    lines=[s.split(\".\")[0].split(\"/\")[-1] for s in lines]\n",
    "    return lines"
   ]
  },
  {
   "cell_type": "code",
   "execution_count": 6,
   "metadata": {},
   "outputs": [],
   "source": [
    "name_map_dict={}\n",
    "\n",
    "for path in list(all_files_cc3d.keys()):\n",
    "    name=path.split(\"/\")[-1]\n",
    "    for gt_file in cc3d_bndry_gt_files:\n",
    "        if name in gt_file:\n",
    "            temp_file=\"/\".join(gt_file.split(\"/\")[-3:]).split(\".\")[0]\n",
    "            name_map_dict[path]=[os.path.join(os.path.join(CC3D_BDN_PATH,\"scan\"),temp_file+\".ply\")]\n",
    "            name_map_dict[path].append(all_files_cc3d[path])\n",
    "            name_map_dict[path].append([os.path.join(os.path.join(CC3D_BDN_PATH,\"bndry\",\"gt\"),temp_file+\".npy\"),\n",
    "                                        os.path.join(os.path.join(CC3D_BDN_PATH,\"jnc\",\"gt\"),temp_file+\".npy\")])"
   ]
  },
  {
   "cell_type": "code",
   "execution_count": 7,
   "metadata": {},
   "outputs": [],
   "source": [
    "# import json\n",
    "# with open(\"name_map.json\",\"w\") as f:\n",
    "#     json.dump(name_map_dict,f)"
   ]
  },
  {
   "cell_type": "code",
   "execution_count": 7,
   "metadata": {},
   "outputs": [],
   "source": [
    "def read_ply_xyz(path_list):\n",
    "    \"\"\"\n",
    "    Reads .ply files from the provided list of file paths and categorizes them based on file type.\n",
    "    \n",
    "    Parameters:\n",
    "    - path_list (list): List of file paths to be processed.\n",
    "\n",
    "    Returns:\n",
    "    A dictionary containing categorized data:\n",
    "    - 'bndry': Boundary .ply file data (if present).\n",
    "    - 'jnc': Junction .ply file data (if present).\n",
    "    - 'input': Input .ply file data (if present).\n",
    "    \"\"\"\n",
    "    data={}\n",
    "    for path in path_list[1]:\n",
    "        if path.split(\".\")[-1]==\"ply\":\n",
    "            data['bndry']=np.asarray(read_ply_file(path).points)\n",
    "        elif \"corner\" in path.split(\".\")[1]:\n",
    "            data['jnc']=np.asarray(read_ply_file(path).points)\n",
    "    data['input']=np.asarray(read_ply_file(path_list[0]).points)\n",
    "\n",
    "    return data"
   ]
  },
  {
   "cell_type": "code",
   "execution_count": 9,
   "metadata": {},
   "outputs": [],
   "source": [
    "pred_both=voxel2scan_label_mapper(name_map_dict['/mnt/isilon/mkhan/complexgen/cc3d/ComplexGen/User Library-1 Santa Fe_Part006'])"
   ]
  },
  {
   "cell_type": "code",
   "execution_count": 10,
   "metadata": {},
   "outputs": [
    {
     "data": {
      "text/plain": [
       "array([0., 0., 0., ..., 0., 0., 0.])"
      ]
     },
     "execution_count": 10,
     "metadata": {},
     "output_type": "execute_result"
    }
   ],
   "source": [
    "pred_both['bndry']"
   ]
  },
  {
   "cell_type": "code",
   "execution_count": 11,
   "metadata": {},
   "outputs": [],
   "source": [
    "pc=read_ply_file(name_map_dict['/mnt/isilon/mkhan/complexgen/cc3d/ComplexGen/User Library-1 Santa Fe_Part006'][0])"
   ]
  },
  {
   "cell_type": "code",
   "execution_count": 12,
   "metadata": {},
   "outputs": [],
   "source": [
    "new_pc=o3d.io.read_point_cloud(\"/mnt/isilon/mkhan/complexgen/cc3d/ComplexGen/User Library-1 Santa Fe_Part006.ply_0_input.xyz\")\n",
    "\n",
    "scale=np.max(np.stack([np.asarray(new_pc.points).max(axis=0),np.abs(np.asarray(new_pc.points).min(axis=0))]),axis=0)\n",
    "\n",
    "divider=np.max(np.stack([np.asarray(pc.points).max(axis=0),np.abs(np.asarray(pc.points).min(axis=0))]),axis=0)"
   ]
  },
  {
   "cell_type": "code",
   "execution_count": 13,
   "metadata": {},
   "outputs": [],
   "source": [
    "colors = np.zeros((pred_both['bndry'].shape[0],3), dtype=np.float64)\n",
    "colors[pred_both['bndry'] == 1] = [1.0, 0.0, 0.0]\n",
    "pc.points=o3d.utility.Vector3dVector(pc.points*scale/divider)\n",
    "pc.colors=o3d.utility.Vector3dVector(colors)"
   ]
  },
  {
   "cell_type": "code",
   "execution_count": 14,
   "metadata": {},
   "outputs": [
    {
     "data": {
      "text/plain": [
       "True"
      ]
     },
     "execution_count": 14,
     "metadata": {},
     "output_type": "execute_result"
    }
   ],
   "source": [
    "o3d.io.write_point_cloud(\"output/check.ply\",pc)"
   ]
  },
  {
   "cell_type": "code",
   "execution_count": 15,
   "metadata": {},
   "outputs": [],
   "source": [
    "precision_scores_bndry=[]\n",
    "recall_scores_bndry=[]\n",
    "\n",
    "precision_scores_jnc=[]\n",
    "recall_scores_jnc=[]"
   ]
  },
  {
   "cell_type": "code",
   "execution_count": 16,
   "metadata": {},
   "outputs": [
    {
     "data": {
      "application/vnd.jupyter.widget-view+json": {
       "model_id": "7efeb7e23bfc447e80df5d2ecd4fc29e",
       "version_major": 2,
       "version_minor": 0
      },
      "text/plain": [
       "  0%|          | 0/4582 [00:00<?, ?it/s]"
      ]
     },
     "metadata": {},
     "output_type": "display_data"
    },
    {
     "name": "stderr",
     "output_type": "stream",
     "text": [
      "/home/mkhan/.conda/envs/scan2brep/lib/python3.8/site-packages/sklearn/metrics/_classification.py:1471: UndefinedMetricWarning: Precision is ill-defined and being set to 0.0 due to no predicted samples. Use `zero_division` parameter to control this behavior.\n",
      "  _warn_prf(average, modifier, msg_start, len(result))\n",
      "/home/mkhan/.conda/envs/scan2brep/lib/python3.8/site-packages/sklearn/metrics/_classification.py:1471: UndefinedMetricWarning: Precision is ill-defined and being set to 0.0 due to no predicted samples. Use `zero_division` parameter to control this behavior.\n",
      "  _warn_prf(average, modifier, msg_start, len(result))\n",
      "/home/mkhan/.conda/envs/scan2brep/lib/python3.8/site-packages/sklearn/metrics/_classification.py:1471: UndefinedMetricWarning: Precision is ill-defined and being set to 0.0 due to no predicted samples. Use `zero_division` parameter to control this behavior.\n",
      "  _warn_prf(average, modifier, msg_start, len(result))\n",
      "/home/mkhan/.conda/envs/scan2brep/lib/python3.8/site-packages/sklearn/metrics/_classification.py:1471: UndefinedMetricWarning: Precision is ill-defined and being set to 0.0 due to no predicted samples. Use `zero_division` parameter to control this behavior.\n",
      "  _warn_prf(average, modifier, msg_start, len(result))\n",
      "/home/mkhan/.conda/envs/scan2brep/lib/python3.8/site-packages/sklearn/metrics/_classification.py:1471: UndefinedMetricWarning: Precision is ill-defined and being set to 0.0 due to no predicted samples. Use `zero_division` parameter to control this behavior.\n",
      "  _warn_prf(average, modifier, msg_start, len(result))\n",
      "/home/mkhan/.conda/envs/scan2brep/lib/python3.8/site-packages/sklearn/metrics/_classification.py:1471: UndefinedMetricWarning: Precision is ill-defined and being set to 0.0 due to no predicted samples. Use `zero_division` parameter to control this behavior.\n",
      "  _warn_prf(average, modifier, msg_start, len(result))\n",
      "/home/mkhan/.conda/envs/scan2brep/lib/python3.8/site-packages/sklearn/metrics/_classification.py:1471: UndefinedMetricWarning: Precision is ill-defined and being set to 0.0 due to no predicted samples. Use `zero_division` parameter to control this behavior.\n",
      "  _warn_prf(average, modifier, msg_start, len(result))\n",
      "/home/mkhan/.conda/envs/scan2brep/lib/python3.8/site-packages/sklearn/metrics/_classification.py:1471: UndefinedMetricWarning: Precision is ill-defined and being set to 0.0 due to no predicted samples. Use `zero_division` parameter to control this behavior.\n",
      "  _warn_prf(average, modifier, msg_start, len(result))\n",
      "/home/mkhan/.conda/envs/scan2brep/lib/python3.8/site-packages/sklearn/metrics/_classification.py:1471: UndefinedMetricWarning: Precision is ill-defined and being set to 0.0 due to no predicted samples. Use `zero_division` parameter to control this behavior.\n",
      "  _warn_prf(average, modifier, msg_start, len(result))\n",
      "/home/mkhan/.conda/envs/scan2brep/lib/python3.8/site-packages/sklearn/metrics/_classification.py:1471: UndefinedMetricWarning: Precision is ill-defined and being set to 0.0 due to no predicted samples. Use `zero_division` parameter to control this behavior.\n",
      "  _warn_prf(average, modifier, msg_start, len(result))\n",
      "/home/mkhan/.conda/envs/scan2brep/lib/python3.8/site-packages/sklearn/metrics/_classification.py:1471: UndefinedMetricWarning: Precision is ill-defined and being set to 0.0 due to no predicted samples. Use `zero_division` parameter to control this behavior.\n",
      "  _warn_prf(average, modifier, msg_start, len(result))\n",
      "/home/mkhan/.conda/envs/scan2brep/lib/python3.8/site-packages/sklearn/metrics/_classification.py:1471: UndefinedMetricWarning: Precision is ill-defined and being set to 0.0 due to no predicted samples. Use `zero_division` parameter to control this behavior.\n",
      "  _warn_prf(average, modifier, msg_start, len(result))\n",
      "/home/mkhan/.conda/envs/scan2brep/lib/python3.8/site-packages/sklearn/metrics/_classification.py:1471: UndefinedMetricWarning: Precision is ill-defined and being set to 0.0 due to no predicted samples. Use `zero_division` parameter to control this behavior.\n",
      "  _warn_prf(average, modifier, msg_start, len(result))\n",
      "/home/mkhan/.conda/envs/scan2brep/lib/python3.8/site-packages/sklearn/metrics/_classification.py:1471: UndefinedMetricWarning: Precision is ill-defined and being set to 0.0 due to no predicted samples. Use `zero_division` parameter to control this behavior.\n",
      "  _warn_prf(average, modifier, msg_start, len(result))\n",
      "/home/mkhan/.conda/envs/scan2brep/lib/python3.8/site-packages/sklearn/metrics/_classification.py:1471: UndefinedMetricWarning: Precision is ill-defined and being set to 0.0 due to no predicted samples. Use `zero_division` parameter to control this behavior.\n",
      "  _warn_prf(average, modifier, msg_start, len(result))\n",
      "/home/mkhan/.conda/envs/scan2brep/lib/python3.8/site-packages/sklearn/metrics/_classification.py:1471: UndefinedMetricWarning: Precision is ill-defined and being set to 0.0 due to no predicted samples. Use `zero_division` parameter to control this behavior.\n",
      "  _warn_prf(average, modifier, msg_start, len(result))\n",
      "/home/mkhan/.conda/envs/scan2brep/lib/python3.8/site-packages/sklearn/metrics/_classification.py:1471: UndefinedMetricWarning: Precision is ill-defined and being set to 0.0 due to no predicted samples. Use `zero_division` parameter to control this behavior.\n",
      "  _warn_prf(average, modifier, msg_start, len(result))\n",
      "/home/mkhan/.conda/envs/scan2brep/lib/python3.8/site-packages/sklearn/metrics/_classification.py:1471: UndefinedMetricWarning: Precision is ill-defined and being set to 0.0 due to no predicted samples. Use `zero_division` parameter to control this behavior.\n",
      "  _warn_prf(average, modifier, msg_start, len(result))\n",
      "/home/mkhan/.conda/envs/scan2brep/lib/python3.8/site-packages/sklearn/metrics/_classification.py:1471: UndefinedMetricWarning: Precision is ill-defined and being set to 0.0 due to no predicted samples. Use `zero_division` parameter to control this behavior.\n",
      "  _warn_prf(average, modifier, msg_start, len(result))\n",
      "/home/mkhan/.conda/envs/scan2brep/lib/python3.8/site-packages/sklearn/metrics/_classification.py:1471: UndefinedMetricWarning: Precision is ill-defined and being set to 0.0 due to no predicted samples. Use `zero_division` parameter to control this behavior.\n",
      "  _warn_prf(average, modifier, msg_start, len(result))\n",
      "/home/mkhan/.conda/envs/scan2brep/lib/python3.8/site-packages/sklearn/metrics/_classification.py:1471: UndefinedMetricWarning: Precision is ill-defined and being set to 0.0 due to no predicted samples. Use `zero_division` parameter to control this behavior.\n",
      "  _warn_prf(average, modifier, msg_start, len(result))\n",
      "/home/mkhan/.conda/envs/scan2brep/lib/python3.8/site-packages/sklearn/metrics/_classification.py:1471: UndefinedMetricWarning: Precision is ill-defined and being set to 0.0 due to no predicted samples. Use `zero_division` parameter to control this behavior.\n",
      "  _warn_prf(average, modifier, msg_start, len(result))\n",
      "/home/mkhan/.conda/envs/scan2brep/lib/python3.8/site-packages/sklearn/metrics/_classification.py:1471: UndefinedMetricWarning: Precision is ill-defined and being set to 0.0 due to no predicted samples. Use `zero_division` parameter to control this behavior.\n",
      "  _warn_prf(average, modifier, msg_start, len(result))\n",
      "/home/mkhan/.conda/envs/scan2brep/lib/python3.8/site-packages/sklearn/metrics/_classification.py:1471: UndefinedMetricWarning: Precision is ill-defined and being set to 0.0 due to no predicted samples. Use `zero_division` parameter to control this behavior.\n",
      "  _warn_prf(average, modifier, msg_start, len(result))\n",
      "/home/mkhan/.conda/envs/scan2brep/lib/python3.8/site-packages/sklearn/metrics/_classification.py:1471: UndefinedMetricWarning: Precision is ill-defined and being set to 0.0 due to no predicted samples. Use `zero_division` parameter to control this behavior.\n",
      "  _warn_prf(average, modifier, msg_start, len(result))\n",
      "/home/mkhan/.conda/envs/scan2brep/lib/python3.8/site-packages/sklearn/metrics/_classification.py:1471: UndefinedMetricWarning: Precision is ill-defined and being set to 0.0 due to no predicted samples. Use `zero_division` parameter to control this behavior.\n",
      "  _warn_prf(average, modifier, msg_start, len(result))\n",
      "/home/mkhan/.conda/envs/scan2brep/lib/python3.8/site-packages/sklearn/metrics/_classification.py:1471: UndefinedMetricWarning: Precision is ill-defined and being set to 0.0 due to no predicted samples. Use `zero_division` parameter to control this behavior.\n",
      "  _warn_prf(average, modifier, msg_start, len(result))\n",
      "/home/mkhan/.conda/envs/scan2brep/lib/python3.8/site-packages/sklearn/metrics/_classification.py:1471: UndefinedMetricWarning: Precision is ill-defined and being set to 0.0 due to no predicted samples. Use `zero_division` parameter to control this behavior.\n",
      "  _warn_prf(average, modifier, msg_start, len(result))\n",
      "/home/mkhan/.conda/envs/scan2brep/lib/python3.8/site-packages/sklearn/metrics/_classification.py:1471: UndefinedMetricWarning: Precision is ill-defined and being set to 0.0 due to no predicted samples. Use `zero_division` parameter to control this behavior.\n",
      "  _warn_prf(average, modifier, msg_start, len(result))\n",
      "/home/mkhan/.conda/envs/scan2brep/lib/python3.8/site-packages/sklearn/metrics/_classification.py:1471: UndefinedMetricWarning: Precision is ill-defined and being set to 0.0 due to no predicted samples. Use `zero_division` parameter to control this behavior.\n",
      "  _warn_prf(average, modifier, msg_start, len(result))\n",
      "/home/mkhan/.conda/envs/scan2brep/lib/python3.8/site-packages/sklearn/metrics/_classification.py:1471: UndefinedMetricWarning: Precision is ill-defined and being set to 0.0 due to no predicted samples. Use `zero_division` parameter to control this behavior.\n",
      "  _warn_prf(average, modifier, msg_start, len(result))\n",
      "/home/mkhan/.conda/envs/scan2brep/lib/python3.8/site-packages/sklearn/metrics/_classification.py:1471: UndefinedMetricWarning: Precision is ill-defined and being set to 0.0 due to no predicted samples. Use `zero_division` parameter to control this behavior.\n",
      "  _warn_prf(average, modifier, msg_start, len(result))\n",
      "/home/mkhan/.conda/envs/scan2brep/lib/python3.8/site-packages/sklearn/metrics/_classification.py:1471: UndefinedMetricWarning: Precision is ill-defined and being set to 0.0 due to no predicted samples. Use `zero_division` parameter to control this behavior.\n",
      "  _warn_prf(average, modifier, msg_start, len(result))\n",
      "/home/mkhan/.conda/envs/scan2brep/lib/python3.8/site-packages/sklearn/metrics/_classification.py:1471: UndefinedMetricWarning: Precision is ill-defined and being set to 0.0 due to no predicted samples. Use `zero_division` parameter to control this behavior.\n",
      "  _warn_prf(average, modifier, msg_start, len(result))\n",
      "/home/mkhan/.conda/envs/scan2brep/lib/python3.8/site-packages/sklearn/metrics/_classification.py:1471: UndefinedMetricWarning: Precision is ill-defined and being set to 0.0 due to no predicted samples. Use `zero_division` parameter to control this behavior.\n",
      "  _warn_prf(average, modifier, msg_start, len(result))\n",
      "/home/mkhan/.conda/envs/scan2brep/lib/python3.8/site-packages/sklearn/metrics/_classification.py:1471: UndefinedMetricWarning: Precision is ill-defined and being set to 0.0 due to no predicted samples. Use `zero_division` parameter to control this behavior.\n",
      "  _warn_prf(average, modifier, msg_start, len(result))\n",
      "/home/mkhan/.conda/envs/scan2brep/lib/python3.8/site-packages/sklearn/metrics/_classification.py:1471: UndefinedMetricWarning: Precision is ill-defined and being set to 0.0 due to no predicted samples. Use `zero_division` parameter to control this behavior.\n",
      "  _warn_prf(average, modifier, msg_start, len(result))\n",
      "/home/mkhan/.conda/envs/scan2brep/lib/python3.8/site-packages/sklearn/metrics/_classification.py:1471: UndefinedMetricWarning: Precision is ill-defined and being set to 0.0 due to no predicted samples. Use `zero_division` parameter to control this behavior.\n",
      "  _warn_prf(average, modifier, msg_start, len(result))\n",
      "/home/mkhan/.conda/envs/scan2brep/lib/python3.8/site-packages/sklearn/metrics/_classification.py:1471: UndefinedMetricWarning: Precision is ill-defined and being set to 0.0 due to no predicted samples. Use `zero_division` parameter to control this behavior.\n",
      "  _warn_prf(average, modifier, msg_start, len(result))\n",
      "/home/mkhan/.conda/envs/scan2brep/lib/python3.8/site-packages/sklearn/metrics/_classification.py:1471: UndefinedMetricWarning: Precision is ill-defined and being set to 0.0 due to no predicted samples. Use `zero_division` parameter to control this behavior.\n",
      "  _warn_prf(average, modifier, msg_start, len(result))\n",
      "/home/mkhan/.conda/envs/scan2brep/lib/python3.8/site-packages/sklearn/metrics/_classification.py:1471: UndefinedMetricWarning: Precision is ill-defined and being set to 0.0 due to no predicted samples. Use `zero_division` parameter to control this behavior.\n",
      "  _warn_prf(average, modifier, msg_start, len(result))\n",
      "/home/mkhan/.conda/envs/scan2brep/lib/python3.8/site-packages/sklearn/metrics/_classification.py:1471: UndefinedMetricWarning: Precision is ill-defined and being set to 0.0 due to no predicted samples. Use `zero_division` parameter to control this behavior.\n",
      "  _warn_prf(average, modifier, msg_start, len(result))\n"
     ]
    }
   ],
   "source": [
    "for key,val in tqdm(name_map_dict.items()):\n",
    "    try:\n",
    "        pred_both=voxel2scan_label_mapper(val)\n",
    "        gt_bndry=np.load(val[2][0])\n",
    "        gt_jnc=np.load(val[2][1])\n",
    "        precision_scores_bndry.append(precision_score(gt_bndry,pred_both['bndry']))\n",
    "        recall_scores_bndry.append(recall_score(gt_bndry,pred_both['bndry']))\n",
    "\n",
    "        precision_scores_jnc.append(precision_score(gt_jnc,pred_both['jnc']))\n",
    "        recall_scores_jnc.append(recall_score(gt_jnc,pred_both['jnc']))\n",
    "    except:\n",
    "        pass"
   ]
  },
  {
   "cell_type": "code",
   "execution_count": 15,
   "metadata": {},
   "outputs": [
    {
     "data": {
      "text/plain": [
       "(0.461, 0.056)"
      ]
     },
     "execution_count": 15,
     "metadata": {},
     "output_type": "execute_result"
    }
   ],
   "source": [
    "np.mean(precision_scores_bndry).round(3),np.mean(recall_scores_bndry).round(3)"
   ]
  },
  {
   "cell_type": "code",
   "execution_count": 16,
   "metadata": {},
   "outputs": [
    {
     "data": {
      "text/plain": [
       "(0.09, 0.013)"
      ]
     },
     "execution_count": 16,
     "metadata": {},
     "output_type": "execute_result"
    }
   ],
   "source": [
    "np.mean(precision_scores_jnc).round(3),np.mean(recall_scores_jnc).round(3)"
   ]
  },
  {
   "cell_type": "markdown",
   "metadata": {},
   "source": [
    "# ABC - Boundary (Model Trained on ABC and Tested on ABC)"
   ]
  },
  {
   "cell_type": "code",
   "execution_count": 8,
   "metadata": {},
   "outputs": [],
   "source": [
    "all_files_abc=root_dict(ABC_CG_PATH)\n",
    "\n",
    "abc_bndry_gt_files=get_files_scan(os.path.join(ABC_BDN_PATH,\"bndry\",\"gt\"),4)\n",
    "abc_bndry_pred_files=get_files_scan(os.path.join(ABC_BDN_PATH,\"bndry\",\"pred\"),4)\n",
    "\n",
    "\n",
    "name_map_dict_abc={}\n",
    "\n",
    "for path in list(all_files_abc.keys()):\n",
    "    name=path.split(\"/\")[-1]\n",
    "    for gt_file in abc_bndry_gt_files:\n",
    "        if name in gt_file:\n",
    "            temp_file=\"/\".join(gt_file.split(\"/\")[-3:]).split(\".\")[0]\n",
    "            name_map_dict_abc[path]=[os.path.join(os.path.join(ABC_BDN_PATH,\"scan\"),temp_file+\".ply\"),\n",
    "                                     os.path.join(os.path.join(ABC_JNC_PATH,\"scan\"),temp_file+\".ply\")]\n",
    "            name_map_dict_abc[path].append(all_files_abc[path])\n",
    "            name_map_dict_abc[path].append([os.path.join(os.path.join(ABC_BDN_PATH,\"bndry\",\"gt\"),temp_file+\".npy\"),\n",
    "                                        os.path.join(os.path.join(ABC_JNC_PATH,\"jnc\",\"gt\"),temp_file+\".npy\")])\n"
   ]
  },
  {
   "cell_type": "code",
   "execution_count": 10,
   "metadata": {},
   "outputs": [
    {
     "data": {
      "application/vnd.jupyter.widget-view+json": {
       "model_id": "b22eb03b3f7740c79298bfd6aee882ec",
       "version_major": 2,
       "version_minor": 0
      },
      "text/plain": [
       "  0%|          | 0/772 [00:00<?, ?it/s]"
      ]
     },
     "metadata": {},
     "output_type": "display_data"
    },
    {
     "name": "stderr",
     "output_type": "stream",
     "text": [
      "RPly: Unable to open file\n"
     ]
    },
    {
     "name": "stdout",
     "output_type": "stream",
     "text": [
      "\u001b[1;33m[Open3D WARNING] Read PLY failed: unable to open file: /mnt/isilon/mkhan/scan2brep/test/BRepJd/version_0/scan/abc_0021_obj_v00/00217837/00217837_11d0df34b2f01abaaa985e5c_trimesh_004.ply\u001b[0;m\n"
     ]
    }
   ],
   "source": [
    "import traceback\n",
    "precision_scores_bndry_abc=[]\n",
    "recall_scores_bndry_abc=[]\n",
    "f1_scores_bndry_abc=[]\n",
    "\n",
    "precision_scores_jnc_abc=[]\n",
    "recall_scores_jnc_abc=[]\n",
    "f1_scores_jnc_abc=[]\n",
    "\n",
    "\n",
    "for key,val in tqdm(name_map_dict_abc.items()):\n",
    "    try:\n",
    "        pred_both=voxel2scan_label_mapper(val)\n",
    "        gt_bndry=np.load(val[3][0])\n",
    "        gt_jnc=np.load(val[3][1])\n",
    "        precision_scores_bndry_abc.append(precision_score(gt_bndry,pred_both['bndry']))\n",
    "        recall_scores_bndry_abc.append(recall_score(gt_bndry,pred_both['bndry']))\n",
    "        # f1_scores_bndry_abc.append(f1_score(gt_bndry,pred_both['bndry']))\n",
    "\n",
    "        precision_scores_jnc_abc.append(precision_score(gt_jnc,pred_both['jnc']))\n",
    "        recall_scores_jnc_abc.append(recall_score(gt_jnc,pred_both['jnc']))\n",
    "        # f1_scores_jnc_abc.append(f1_score(gt_bndry,pred_both['jnc']))\n",
    "    except Exception as e:\n",
    "        #print(traceback.print_exec())\n",
    "        pass"
   ]
  },
  {
   "cell_type": "code",
   "execution_count": 11,
   "metadata": {},
   "outputs": [
    {
     "data": {
      "text/plain": [
       "65.0"
      ]
     },
     "execution_count": 11,
     "metadata": {},
     "output_type": "execute_result"
    }
   ],
   "source": [
    "pred_both['jnc'].sum()"
   ]
  },
  {
   "cell_type": "code",
   "execution_count": 10,
   "metadata": {},
   "outputs": [
    {
     "name": "stdout",
     "output_type": "stream",
     "text": [
      "Recall 0.102\n",
      "Precision 0.332\n"
     ]
    }
   ],
   "source": [
    "print(f\"Recall {np.mean(recall_scores_bndry_abc).round(3)}\")\n",
    "print(f\"Precision {np.mean(precision_scores_bndry_abc).round(3)}\")"
   ]
  },
  {
   "cell_type": "code",
   "execution_count": 12,
   "metadata": {},
   "outputs": [
    {
     "name": "stdout",
     "output_type": "stream",
     "text": [
      "Recall 0.06\n",
      "Precision 0.298\n"
     ]
    }
   ],
   "source": [
    "print(f\"Recall {np.mean(recall_scores_jnc_abc).round(3)}\")\n",
    "print(f\"Precision {np.mean(precision_scores_jnc_abc).round(3)}\")"
   ]
  },
  {
   "cell_type": "code",
   "execution_count": 12,
   "metadata": {},
   "outputs": [
    {
     "data": {
      "text/plain": [
       "(0.044938055316144185, 0.253, nan)"
      ]
     },
     "execution_count": 12,
     "metadata": {},
     "output_type": "execute_result"
    }
   ],
   "source": [
    "np.mean(recall_scores_jnc_abc), np.mean(precision_scores_jnc_abc).round(3).round(3),np.mean(f1_scores_jnc_abc)"
   ]
  },
  {
   "cell_type": "markdown",
   "metadata": {},
   "source": [
    "# Visualization"
   ]
  },
  {
   "cell_type": "code",
   "execution_count": 1,
   "metadata": {},
   "outputs": [],
   "source": [
    "def create_pcd_with_colors(array,label,translate=[0,0,0]):\n",
    "    pcd = o3d.geometry.PointCloud()\n",
    "    pcd.points = o3d.utility.Vector3dVector(array)\n",
    "    colors = np.ones((array.shape[0],3), dtype=np.float64)*0.5\n",
    "    if label is not None:\n",
    "        colors[label == 1] = [1.0, 0.0, 0.0]\n",
    "    # colors[label == 0] = [106/255, 115/255, 108/255]\n",
    "    pcd.colors = o3d.utility.Vector3dVector(colors)\n",
    "\n",
    "    return pcd.translate(np.array(translate))\n",
    "\n",
    "def create_pcd_with_two_colors(array,label1,label2,translate=[0,0,0]):\n",
    "    pcd = o3d.geometry.PointCloud()\n",
    "    pcd.points = o3d.utility.Vector3dVector(array)\n",
    "    colors = np.ones((array.shape[0],3), dtype=np.float64)*0.5\n",
    "    colors[label1 == 1] = [1.0, 0.0, 0.0]\n",
    "    colors[label2 == 1] = [0.0, 1.0, 0.0]\n",
    "    # colors[label == 0] = [106/255, 115/255, 108/255]\n",
    "    pcd.colors = o3d.utility.Vector3dVector(colors)\n",
    "    return pcd.translate(np.array(translate))\n",
    "\n",
    "\n",
    "def create_pcd_with_green_colors(array,label,translate=[0,0,0]):\n",
    "    pcd = o3d.geometry.PointCloud()\n",
    "    pcd.points = o3d.utility.Vector3dVector(array)\n",
    "    colors = np.ones((array.shape[0],3), dtype=np.float64)*0.5\n",
    "    if label is not None:\n",
    "        colors[label == 1] = [0.0, 1.0, 0.0]\n",
    "    # colors[label == 0] = [106/255, 115/255, 108/255]\n",
    "    pcd.colors = o3d.utility.Vector3dVector(colors)\n",
    "\n",
    "    return pcd.translate(np.array(translate))"
   ]
  },
  {
   "cell_type": "code",
   "execution_count": 2,
   "metadata": {},
   "outputs": [],
   "source": [
    "BNET_JNC_ABC=\"/mnt/isilon/mkhan/scan2brep/test/BRepJd/version_0\"\n",
    "PNET_BNDRY_ABC=\"/mnt/isilon/mkhan/scan2brep_abl/test/BRepEd/version_0/\"\n",
    "SCAN_PATH=\"/data/3d_cluster/ABC_filter/obj/\""
   ]
  },
  {
   "cell_type": "code",
   "execution_count": 3,
   "metadata": {},
   "outputs": [],
   "source": [
    "def point_label_mapper(point,label,target):\n",
    "    new_label=np.zeros(target.shape[0])\n",
    "    nn = pynanoflann.KDTree(n_neighbors=1, metric='L1', radius=100)\n",
    "    # scale=np.max(np.stack([np.asarray(target).max(axis=0),\n",
    "    #                        np.abs(np.asarray(target).min(axis=0))]),axis=0)\n",
    "    \n",
    "    # divider=np.max(np.stack([np.asarray(point).max(axis=0),\n",
    "    #                         np.abs(np.asarray(point).min(axis=0))]),axis=0)\n",
    "    point=point[np.where(label==1)[0]]\n",
    "    nn.fit(target)\n",
    "    new_label[np.unique([nn.kneighbors(point)[1].reshape(-1)])]=1\n",
    "    return new_label\n",
    "\n",
    "def point_label_mapper_1(point,label,target):\n",
    "    new_label=np.zeros(target.shape[0])\n",
    "    nn = pynanoflann.KDTree(n_neighbors=1, metric='L1', radius=100)\n",
    "    # scale=np.max(np.stack([np.asarray(target).max(axis=0),\n",
    "    #                        np.abs(np.asarray(target).min(axis=0))]),axis=0)\n",
    "    \n",
    "    # divider=np.max(np.stack([np.asarray(point).max(axis=0),\n",
    "    #                         np.abs(np.asarray(point).min(axis=0))]),axis=0)\n",
    "    # point=point[np.where(label==1)[0]]\n",
    "    nn.fit(target)\n",
    "    new_label[np.unique([nn.kneighbors(point)[1].reshape(-1)])]=1\n",
    "    return new_label\n"
   ]
  },
  {
   "cell_type": "code",
   "execution_count": 4,
   "metadata": {},
   "outputs": [
    {
     "ename": "NameError",
     "evalue": "name 'tqdm' is not defined",
     "output_type": "error",
     "traceback": [
      "\u001b[0;31m---------------------------------------------------------------------------\u001b[0m",
      "\u001b[0;31mNameError\u001b[0m                                 Traceback (most recent call last)",
      "Cell \u001b[0;32mIn[4], line 3\u001b[0m\n\u001b[1;32m      1\u001b[0m output_path\u001b[38;5;241m=\u001b[39m\u001b[38;5;124m\"\u001b[39m\u001b[38;5;124m/mnt/isilon/mkhan/scan2brep/result/abc\u001b[39m\u001b[38;5;124m\"\u001b[39m\n\u001b[1;32m      2\u001b[0m i\u001b[38;5;241m=\u001b[39m\u001b[38;5;241m0\u001b[39m\n\u001b[0;32m----> 3\u001b[0m \u001b[38;5;28;01mfor\u001b[39;00m key,val \u001b[38;5;129;01min\u001b[39;00m \u001b[43mtqdm\u001b[49m(name_map_dict_abc\u001b[38;5;241m.\u001b[39mitems()):\n\u001b[1;32m      4\u001b[0m     \u001b[38;5;66;03m# original scan\u001b[39;00m\n\u001b[1;32m      5\u001b[0m     \u001b[38;5;28;01mtry\u001b[39;00m:\n\u001b[1;32m      6\u001b[0m         mesh\u001b[38;5;241m=\u001b[39mo3d\u001b[38;5;241m.\u001b[39mio\u001b[38;5;241m.\u001b[39mread_triangle_mesh(os\u001b[38;5;241m.\u001b[39mpath\u001b[38;5;241m.\u001b[39mjoin(SCAN_PATH,\n\u001b[1;32m      7\u001b[0m                                                     \u001b[38;5;124m\"\u001b[39m\u001b[38;5;124m/\u001b[39m\u001b[38;5;124m\"\u001b[39m\u001b[38;5;241m.\u001b[39mjoin(val[\u001b[38;5;241m3\u001b[39m][\u001b[38;5;241m1\u001b[39m]\u001b[38;5;241m.\u001b[39msplit(\u001b[38;5;124m\"\u001b[39m\u001b[38;5;124m/\u001b[39m\u001b[38;5;124m\"\u001b[39m)[\u001b[38;5;241m-\u001b[39m\u001b[38;5;241m3\u001b[39m:]))\u001b[38;5;241m.\u001b[39mstrip(\u001b[38;5;124m\"\u001b[39m\u001b[38;5;124m.npy\u001b[39m\u001b[38;5;124m\"\u001b[39m)\u001b[38;5;241m+\u001b[39m\u001b[38;5;124m\"\u001b[39m\u001b[38;5;124m.obj\u001b[39m\u001b[38;5;124m\"\u001b[39m)\n",
      "\u001b[0;31mNameError\u001b[0m: name 'tqdm' is not defined"
     ]
    }
   ],
   "source": [
    "output_path=\"/mnt/isilon/mkhan/scan2brep/result/abc\"\n",
    "i=0\n",
    "for key,val in tqdm(name_map_dict_abc.items()):\n",
    "    # original scan\n",
    "    try:\n",
    "        mesh=o3d.io.read_triangle_mesh(os.path.join(SCAN_PATH,\n",
    "                                                    \"/\".join(val[3][1].split(\"/\")[-3:])).strip(\".npy\")+\".obj\")\n",
    "        scale_orig_scan=max(np.abs(np.asarray(mesh.vertices).max()),\n",
    "                            np.abs(np.asarray(mesh.vertices).min()))\n",
    "\n",
    "        orig_scan=np.asarray(mesh.vertices)/scale_orig_scan\n",
    "\n",
    "\n",
    "        # Complexgen results\n",
    "        pred_both=voxel2scan_label_mapper(val) # Contains both jnc and boundary results\n",
    "\n",
    "        # BrepDetNet Results\n",
    "        bdn_pred_bndry=(np.load(val[3][0].replace(\"gt\",\"pred\"))>0.56).astype(int) # BrepDetNet Boundary\n",
    "        scan=np.asarray(read_ply_file(val[0]).points) # This is the sampled scan (10k)\n",
    "\n",
    "        # Junction has different points (4k)\n",
    "        bdn_pred_jnc=np.load(os.path.join(BNET_JNC_ABC,\"jnc\",\n",
    "                                        \"pred\",\"/\".join(val[3][1].split(\"/\")[-3:]))) # BrepDetNet Junction\n",
    "        bdn_gt_jnc=np.load(os.path.join(BNET_JNC_ABC,\"jnc\",\n",
    "                                        \"gt\",\"/\".join(val[3][1].split(\"/\")[-3:]))) # BrepDetNet Junction\n",
    "        bdn_pred_jnc=(bdn_pred_jnc>0.55).astype(int)\n",
    "        jnc_scan=np.asarray(read_ply_file(os.path.join(BNET_JNC_ABC,\n",
    "                                                    \"scan\",\"/\".join(val[3][1].split(\"/\")[-3:])).strip(\".npy\")+\".ply\").points)\n",
    "\n",
    "        \n",
    "        #bdn_pred_jnc=point_label_mapper(jnc_scan,bdn_pred_jnc,scan) # Junction label mapped to sampled scan points\n",
    "\n",
    "        # Ground Truth Boundary and Junction label\n",
    "        gt_bndry=np.load(val[3][0])\n",
    "        #gt_jnc=np.load(val[2][1])\n",
    "\n",
    "        # PieNet Results\n",
    "        pienet_bndry=(np.load(os.path.join(PNET_BNDRY_ABC,\"bndry\",\n",
    "                                        \"pred\",\"/\".join(val[3][1].split(\"/\")[-3:])))>0.65).astype(int)\n",
    "        \n",
    "        pienet_scan=np.asarray(read_ply_file(os.path.join(PNET_BNDRY_ABC,\"scan\",\\\n",
    "                                        \"/\".join(val[3][1].split(\"/\")[-3:])).strip(\".npy\")+\".ply\").points)\n",
    "        \n",
    "        pienet_bndry=point_label_mapper(pienet_scan,pienet_bndry,scan)\n",
    "\n",
    "        # For boundary\n",
    "        mainPcd=create_pcd_with_colors(orig_scan,None)+\\\n",
    "            create_pcd_with_colors(scan,gt_bndry,[3.0,0.0,0.0])+\\\n",
    "            create_pcd_with_colors(scan,pred_both['bndry'],[6.0,0.0,0.0])+\\\n",
    "            create_pcd_with_colors(scan,bdn_pred_bndry,[9.0,0.0,0.0]) +\\\n",
    "            create_pcd_with_colors(scan,pienet_bndry,[12.0,0.0,0.0]) +\\\n",
    "            create_pcd_with_green_colors(jnc_scan,bdn_gt_jnc,[15.0,0.0,0.0])+\\\n",
    "            create_pcd_with_green_colors(jnc_scan,pred_both['jnc'],[18.0,0.0,0.0]) +\\\n",
    "            create_pcd_with_green_colors(jnc_scan,bdn_pred_jnc,[21.0,0.0,0.0])\n",
    "\n",
    "        # create_pcd_with_colors(scan,pred_both['bndry'],[6.0,0.0,0.0])+\\\n",
    "            # create_pcd_with_colors(scan,bdn_pred_bndry,[9.0,0.0,0.0]) +\\\n",
    "            # create_pcd_with_colors(scan,pienet_bndry,[12.0,0.0,0.0]) +\\\n",
    "        o3d.io.write_point_cloud(os.path.join(output_path,\"bndry\",key.split(\"/\")[-1]+\".ply\"),mainPcd)\n",
    "        #o3d.io.write_point_cloud(\"check.ply\",mainPcd)\n",
    "\n",
    "        # # For Junction\n",
    "        # mainPcd_jnc=create_pcd_with_colors(scan,gt_jnc)+\\\n",
    "        #     create_pcd_with_colors(scan,pred_both['jnc'],[3.0,0.0,0.0])+\\\n",
    "        # create_pcd_with_colors(scan,bdn_pred_jnc,[6.0,0.0,0.0])\n",
    "\n",
    "        # o3d.io.write_point_cloud(\"check_jnc.ply\",mainPcd_jnc)\n",
    "\n",
    "        # i+=1\n",
    "        # if i==4:\n",
    "        #     break\n",
    "    except Exception as e:\n",
    "        print(traceback.print_exc())\n"
   ]
  },
  {
   "cell_type": "markdown",
   "metadata": {},
   "source": [
    "# Model trained on ABC and tested on CC3D"
   ]
  },
  {
   "cell_type": "code",
   "execution_count": 9,
   "metadata": {},
   "outputs": [],
   "source": [
    "ABC_BDN_PATH=\"/mnt/isilon/mkhan/scan2brep/test/BRepEd/version_9\"\n",
    "# ABC_BDN_PATH=\"/mnt/isilon/mkhan/scan2brep/test/BRepEd/version_8/\"\n",
    "SCAN_PATH=\"/data/3d_cluster/ABC_filter/obj/\"\n",
    "\n",
    "\n",
    "ABL_PPL_BNDRY=\"/mnt/isilon/mkhan/scan2brep_abl/test/BRepEd/version_0/\"\n",
    "\n",
    "BNET_JNC_ABC=\"/mnt/isilon/mkhan/scan2brep/test/BRepJd/version_0\"\n",
    "PNET_BNDRY_ABC=\"/mnt/isilon/mkhan/scan2brep_abl/test/BRepEd/version_0/\"\n",
    "SCAN_PATH=\"/data/3d_cluster/ABC_filter/obj/\"\n",
    "# SCAN_PATH=\"/data/3d_cluster/ABC_filter/obj/\""
   ]
  },
  {
   "cell_type": "code",
   "execution_count": 12,
   "metadata": {},
   "outputs": [],
   "source": [
    "all_files_abc=root_dict(CC3D_CG_PATH)\n",
    "\n",
    "abc_bndry_gt_files=get_files_scan(os.path.join(ABC_BDN_PATH,\"bndry\",\"gt\"),4)\n",
    "abc_bndry_pred_files=get_files_scan(os.path.join(ABC_BDN_PATH,\"bndry\",\"pred\"),4)\n",
    "\n",
    "\n",
    "name_map_dict_abc={}\n",
    "\n",
    "for path in list(all_files_abc.keys()):\n",
    "    name=path.split(\"/\")[-1]\n",
    "    for gt_file in abc_bndry_gt_files:\n",
    "        if name in gt_file:\n",
    "            temp_file=\"/\".join(gt_file.split(\"/\")[-3:]).split(\".\")[0]\n",
    "            name_map_dict_abc[path]=[os.path.join(os.path.join(ABC_BDN_PATH,\"scan\"),temp_file+\".ply\"),\n",
    "                                     os.path.join(os.path.join(ABC_JNC_PATH,\"scan\"),temp_file+\".ply\")]\n",
    "            name_map_dict_abc[path].append(all_files_abc[path])\n",
    "            name_map_dict_abc[path].append([os.path.join(os.path.join(ABC_BDN_PATH,\"bndry\",\"gt\"),temp_file+\".npy\"),\n",
    "                                        os.path.join(os.path.join(ABC_JNC_PATH,\"jnc\",\"gt\"),temp_file+\".npy\")])\n"
   ]
  },
  {
   "cell_type": "code",
   "execution_count": 1,
   "metadata": {},
   "outputs": [],
   "source": [
    "# import traceback\n",
    "# output_path=\"/mnt/isilon/mkhan/scan2brep/result/abc_cc3d\"\n",
    "# # if not os.path.exists(output_path):\n",
    "# #os.makedirs(output_path)\n",
    "    \n",
    "# i=0\n",
    "# for key,val in tqdm(name_map_dict_abc.items()):\n",
    "#     # original scan\n",
    "#     try:\n",
    "#         try:\n",
    "#             mesh=o3d.io.read_triangle_mesh(os.path.join(SCAN_PATH,\"test\",\n",
    "#                                                         \"/\".join(val[3][1].split(\"/\")[-3:])).strip(\".npy\")+\".ply\")\n",
    "#         except:\n",
    "#             mesh=o3d.io.read_triangle_mesh(os.path.join(SCAN_PATH,\"test_codalab\",\n",
    "#                                                         \"/\".join(val[3][1].split(\"/\")[-3:])).strip(\".npy\")+\".ply\")\n",
    "        \n",
    "#         scale_orig_scan=max(np.abs(np.asarray(mesh.vertices).max()),\n",
    "#                             np.abs(np.asarray(mesh.vertices).min()))\n",
    "\n",
    "#         orig_scan=np.asarray(mesh.vertices)/scale_orig_scan\n",
    "\n",
    "#         # Complexgen results\n",
    "#         pred_both=voxel2scan_label_mapper(val) # Contains both jnc and boundary results\n",
    "\n",
    "#         # BrepDetNet Results\n",
    "#         bdn_pred_bndry=(np.load(val[3][0].replace(\"gt\",\"pred\"))>0.56).astype(int) # BrepDetNet Boundary\n",
    "#         scan=np.asarray(read_ply_file(val[0]).points) # This is the sampled scan (10k)\n",
    "\n",
    "#         # Junction has different points (4k)\n",
    "#         bdn_pred_jnc=np.load(os.path.join(BNET_JNC_ABC,\"jnc\",\n",
    "#                                         \"pred\",\"/\".join(val[3][1].split(\"/\")[-3:]))) # BrepDetNet Junction\n",
    "#         bdn_gt_jnc=np.load(os.path.join(BNET_JNC_ABC,\"jnc\",\n",
    "#                                         \"gt\",\"/\".join(val[3][1].split(\"/\")[-3:]))) # BrepDetNet Junction\n",
    "#         bdn_pred_jnc=(bdn_pred_jnc>0.55).astype(int)\n",
    "#         jnc_scan=np.asarray(read_ply_file(os.path.join(BNET_JNC_ABC,\n",
    "#                                                     \"scan\",\"/\".join(val[3][1].split(\"/\")[-3:])).strip(\".npy\")+\".ply\").points)\n",
    "\n",
    "#         #bdn_pred_jnc=point_label_mapper(jnc_scan,bdn_pred_jnc,scan) # Junction label mapped to sampled scan points\n",
    "\n",
    "#         # Ground Truth Boundary and Junction label\n",
    "#         gt_bndry=np.load(val[3][0])\n",
    "#         #gt_jnc=np.load(val[2][1])\n",
    "\n",
    "#         # PieNet Results\n",
    "#         pienet_bndry=(np.load(os.path.join(PNET_BNDRY_ABC,\"bndry\",\n",
    "#                                         \"pred\",\"/\".join(val[3][1].split(\"/\")[-3:])))>0.65).astype(int)\n",
    "        \n",
    "#         pienet_scan=np.asarray(read_ply_file(os.path.join(PNET_BNDRY_ABC,\"scan\",\\\n",
    "#                                         \"/\".join(val[3][1].split(\"/\")[-3:])).strip(\".npy\")+\".ply\").points)\n",
    "        \n",
    "#         pienet_bndry=point_label_mapper(pienet_scan,pienet_bndry,scan)\n",
    "\n",
    "#         # For boundary\n",
    "#         mainPcd=create_pcd_with_colors(scan,gt_bndry)+\\\n",
    "#             create_pcd_with_colors(scan,pred_both['bndry'],[3.0,0.0,0.0])+\\\n",
    "#             create_pcd_with_colors(scan,bdn_pred_bndry,[6.0,0.0,0.0]) +\\\n",
    "#             create_pcd_with_colors(scan,pienet_bndry,[9.0,0.0,0.0]) +\\\n",
    "#             create_pcd_with_green_colors(jnc_scan,bdn_gt_jnc,[12.0,0.0,0.0])+\\\n",
    "#             create_pcd_with_green_colors(jnc_scan,pred_both['jnc'],[15.0,0.0,0.0]) +\\\n",
    "#             create_pcd_with_green_colors(jnc_scan,bdn_pred_jnc,[18.0,0.0,0.0])\n",
    "\n",
    "#         # create_pcd_with_colors(scan,pred_both['bndry'],[6.0,0.0,0.0])+\\\n",
    "#             # create_pcd_with_colors(scan,bdn_pred_bndry,[9.0,0.0,0.0]) +\\\n",
    "#             # create_pcd_with_colors(scan,pienet_bndry,[12.0,0.0,0.0]) +\\\n",
    "#         o3d.io.write_point_cloud(os.path.join(output_path,key.split(\"/\")[-1]+\".ply\"),mainPcd)\n",
    "#         #o3d.io.write_point_cloud(\"check.ply\",mainPcd)\n",
    "#         #print(f\"Successfully saved {key}\")\n",
    "#         # # For Junction\n",
    "#         # mainPcd_jnc=create_pcd_with_colors(scan,gt_jnc)+\\\n",
    "#         #     create_pcd_with_colors(scan,pred_both['jnc'],[3.0,0.0,0.0])+\\\n",
    "#         # create_pcd_with_colors(scan,bdn_pred_jnc,[6.0,0.0,0.0])\n",
    "\n",
    "#         # o3d.io.write_point_cloud(\"check_jnc.ply\",mainPcd_jnc)\n",
    "\n",
    "#         # i+=1\n",
    "#         # if i==4:\n",
    "#         #     break\n",
    "#     except Exception as e:\n",
    "#         # print(traceback.print_exc())\n",
    "#         pass\n"
   ]
  },
  {
   "cell_type": "markdown",
   "metadata": {},
   "source": [
    "## Ablation Study"
   ]
  },
  {
   "cell_type": "markdown",
   "metadata": {},
   "source": [
    "##### Model Trained on ABC and tested on ABC"
   ]
  },
  {
   "cell_type": "code",
   "execution_count": 51,
   "metadata": {},
   "outputs": [],
   "source": [
    "ABC_BDN_PATH=\"/mnt/isilon/mkhan/scan2brep/test/BRepEd/version_8/\"\n",
    "PPL_BDN_PATH=\"/mnt/isilon/mkhan/scan2brep_abl/test/BRepEd/version_1/\"\n",
    "SCAN_PATH=\"/data/3d_cluster/ABC_filter/obj/\""
   ]
  },
  {
   "cell_type": "code",
   "execution_count": 54,
   "metadata": {},
   "outputs": [
    {
     "data": {
      "application/vnd.jupyter.widget-view+json": {
       "model_id": "5d5ed6db3c87406e8e81abb09ab4ac18",
       "version_major": 2,
       "version_minor": 0
      },
      "text/plain": [
       "  0%|          | 0/955 [00:00<?, ?it/s]"
      ]
     },
     "metadata": {},
     "output_type": "display_data"
    }
   ],
   "source": [
    "import traceback\n",
    "output_path=\"/mnt/isilon/mkhan/scan2brep_abl/result/version_1_1\"\n",
    "# if not os.path.exists(output_path):\n",
    "#     os.makedirs(output_path)\n",
    "i=0\n",
    "for path in tqdm(all_files_abc):\n",
    "    # original scan\n",
    "    try:\n",
    "        name=\"/\".join(path.split(\"/\")[-3:]).strip(\".npy\")\n",
    "        \n",
    "        # Model with PPL \n",
    "        pred_ppl=(np.load(path)>0.56).astype(int)\n",
    "        gt_bndry=np.load(os.path.join(ABC_BDN_PATH,\"bndry\",\"gt\",name)+\".npy\")\n",
    "        scan_ppl=np.asarray(read_ply_file(os.path.join(ABC_BDN_PATH,\"scan\",name)+\".ply\").points)\n",
    "\n",
    "        # Model without PPL\n",
    "        pred_wo_ppl=(np.load(os.path.join(PPL_BDN_PATH,\"bndry\",\"pred\",name)+\".npy\")>0.56).astype(int)\n",
    "        scan_wo_ppl=np.asarray(read_ply_file(os.path.join(PPL_BDN_PATH,\"scan\",name)+\".ply\").points)\n",
    "        pred_wo_ppl=point_label_mapper(scan_wo_ppl,pred_wo_ppl,scan_ppl)\n",
    "        \n",
    "        # For boundary\n",
    "        mainPcd=create_pcd_with_colors(scan_ppl,gt_bndry,[0.0,0.0,0.0])+\\\n",
    "            create_pcd_with_colors(scan_ppl,pred_ppl,[3.0,0.0,0.0])+\\\n",
    "            create_pcd_with_colors(scan_ppl,pred_wo_ppl,[6.0,0.0,0.0]) \n",
    "\n",
    "        o3d.io.write_point_cloud(os.path.join(output_path,name.split(\"/\")[-1]+\".ply\"),mainPcd)\n",
    "        #o3d.io.write_point_cloud(\"check.ply\",mainPcd)\n",
    "\n",
    "        # # For Junction\n",
    "        # mainPcd_jnc=create_pcd_with_colors(scan,gt_jnc)+\\\n",
    "        #     create_pcd_with_colors(scan,pred_both['jnc'],[3.0,0.0,0.0])+\\\n",
    "        # create_pcd_with_colors(scan,bdn_pred_jnc,[6.0,0.0,0.0])\n",
    "\n",
    "        # o3d.io.write_point_cloud(\"check_jnc.ply\",mainPcd_jnc)\n",
    "        #break\n",
    "        # i+=1\n",
    "        # if i==4:\n",
    "        #     break\n",
    "    except Exception as e:\n",
    "        print(traceback.print_exc())\n",
    "        break\n"
   ]
  },
  {
   "cell_type": "markdown",
   "metadata": {},
   "source": [
    "### Model Trained on ABC and tested on CC3D"
   ]
  },
  {
   "cell_type": "code",
   "execution_count": 57,
   "metadata": {},
   "outputs": [],
   "source": [
    "ABC_BDN_PATH=\"/mnt/isilon/mkhan/scan2brep/test/BRepEd/version_9/\"\n",
    "PPL_BDN_PATH=\"/mnt/isilon/mkhan/scan2brep_abl/test/BRepEd/version_3/\"\n",
    "SCAN_PATH=\"/data/3d_cluster/ABC_filter/obj/\"\n",
    "\n",
    "all_files_abc=get_files_scan(os.path.join(ABC_BDN_PATH,\"bndry\",\"pred\"))"
   ]
  },
  {
   "cell_type": "code",
   "execution_count": 60,
   "metadata": {},
   "outputs": [],
   "source": [
    "import traceback\n",
    "output_path=\"/mnt/isilon/mkhan/scan2brep_abl/result/version_1_2\"\n",
    "if not os.path.exists(output_path):\n",
    "    os.makedirs(output_path)\n",
    "i=0\n",
    "for path in tqdm(all_files_abc):\n",
    "    # original scan\n",
    "    try:\n",
    "        name=\"/\".join(path.split(\"/\")[-3:]).strip(\".npy\")\n",
    "        \n",
    "        # Model with PPL \n",
    "        pred_ppl=(np.load(path)>0.56).astype(int)\n",
    "        gt_bndry=np.load(os.path.join(ABC_BDN_PATH,\"bndry\",\"gt\",name)+\".npy\")\n",
    "        scan_ppl=np.asarray(read_ply_file(os.path.join(ABC_BDN_PATH,\"scan\",name)+\".ply\").points)\n",
    "\n",
    "        # Model without PPL\n",
    "        pred_wo_ppl=(np.load(os.path.join(PPL_BDN_PATH,\"bndry\",\"pred\",name)+\".npy\")>0.56).astype(int)\n",
    "        scan_wo_ppl=np.asarray(read_ply_file(os.path.join(PPL_BDN_PATH,\"scan\",name)+\".ply\").points)\n",
    "        pred_wo_ppl=point_label_mapper(scan_wo_ppl,pred_wo_ppl,scan_ppl)\n",
    "        \n",
    "        # For boundary\n",
    "        mainPcd=create_pcd_with_colors(scan_ppl,gt_bndry,[0.0,0.0,0.0])+\\\n",
    "            create_pcd_with_colors(scan_ppl,pred_ppl,[3.0,0.0,0.0])+\\\n",
    "            create_pcd_with_colors(scan_ppl,pred_wo_ppl,[6.0,0.0,0.0]) \n",
    "\n",
    "        o3d.io.write_point_cloud(os.path.join(output_path,name.split(\"/\")[-1]+\".ply\"),mainPcd)\n",
    "        #o3d.io.write_point_cloud(\"check.ply\",mainPcd)\n",
    "\n",
    "        # # For Junction\n",
    "        # mainPcd_jnc=create_pcd_with_colors(scan,gt_jnc)+\\\n",
    "        #     create_pcd_with_colors(scan,pred_both['jnc'],[3.0,0.0,0.0])+\\\n",
    "        # create_pcd_with_colors(scan,bdn_pred_jnc,[6.0,0.0,0.0])\n",
    "\n",
    "        # o3d.io.write_point_cloud(\"check_jnc.ply\",mainPcd_jnc)\n",
    "        #break\n",
    "        # i+=1\n",
    "        # if i==4:\n",
    "        #     break\n",
    "    except Exception as e:\n",
    "        #print(traceback.print_exc())\n",
    "        #break\n"
   ]
  },
  {
   "cell_type": "markdown",
   "metadata": {},
   "source": [
    "#### Model Trained on CC3D and Tested on CC3D"
   ]
  },
  {
   "cell_type": "code",
   "execution_count": 10,
   "metadata": {},
   "outputs": [],
   "source": [
    "CC3D_BDN_PATH=\"/mnt/isilon/mkhan/scan2brep/test/BRepEd/version_10/\"\n",
    "PPL_BDN_PATH=\"/mnt/isilon/mkhan/scan2brep_abl/test/BRepEd/version_5/\"\n",
    "SCAN_PATH=\"/data/3d_cluster/ABC_filter/obj/\"\n",
    "\n",
    "all_files_abc=get_files_scan(os.path.join(CC3D_BDN_PATH,\"bndry\",\"pred\"))"
   ]
  },
  {
   "cell_type": "code",
   "execution_count": 11,
   "metadata": {},
   "outputs": [
    {
     "data": {
      "application/vnd.jupyter.widget-view+json": {
       "model_id": "0d3b151c6ee740478abcbb7be854f127",
       "version_major": 2,
       "version_minor": 0
      },
      "text/plain": [
       "  0%|          | 0/4609 [00:00<?, ?it/s]"
      ]
     },
     "metadata": {},
     "output_type": "display_data"
    }
   ],
   "source": [
    "import traceback\n",
    "output_path=\"/mnt/isilon/mkhan/scan2brep_abl/result/version_2_2\"\n",
    "if not os.path.exists(output_path):\n",
    "    os.makedirs(output_path)\n",
    "i=0\n",
    "for path in tqdm(all_files_abc):\n",
    "    # original scan\n",
    "    try:\n",
    "        name=\"/\".join(path.split(\"/\")[-3:]).strip(\".npy\")\n",
    "        \n",
    "        # Model with PPL \n",
    "        pred_ppl=(np.load(path)>0.56).astype(int)\n",
    "        gt_bndry=np.load(os.path.join(CC3D_BDN_PATH,\"bndry\",\"gt\",name)+\".npy\")\n",
    "        scan_ppl=np.asarray(read_ply_file(os.path.join(CC3D_BDN_PATH,\"scan\",name)+\".ply\").points)\n",
    "\n",
    "        # Model without PPL\n",
    "        pred_wo_ppl=(np.load(os.path.join(PPL_BDN_PATH,\"bndry\",\"pred\",name)+\".npy\")>0.56).astype(int)\n",
    "        scan_wo_ppl=np.asarray(read_ply_file(os.path.join(PPL_BDN_PATH,\"scan\",name)+\".ply\").points)\n",
    "        pred_wo_ppl=point_label_mapper(scan_wo_ppl,pred_wo_ppl,scan_ppl)\n",
    "        \n",
    "        # For boundary\n",
    "        mainPcd=create_pcd_with_colors(scan_ppl,gt_bndry,[0.0,0.0,0.0])+\\\n",
    "            create_pcd_with_colors(scan_ppl,pred_ppl,[3.0,0.0,0.0])+\\\n",
    "            create_pcd_with_colors(scan_ppl,pred_wo_ppl,[6.0,0.0,0.0]) \n",
    "\n",
    "        o3d.io.write_point_cloud(os.path.join(output_path,name.split(\"/\")[-1]+\".ply\"),mainPcd)\n",
    "        \n",
    "    except Exception as e:\n",
    "        #print(traceback.print_exc())\n",
    "        #break\n",
    "        pass\n"
   ]
  },
  {
   "cell_type": "markdown",
   "metadata": {},
   "source": [
    "### Model Trained on CC3D and Tested on ABC"
   ]
  },
  {
   "cell_type": "code",
   "execution_count": 12,
   "metadata": {},
   "outputs": [],
   "source": [
    "CC3D_BDN_PATH=\"/mnt/isilon/mkhan/scan2brep/test/BRepEd/version_11/\"\n",
    "PPL_BDN_PATH=\"/mnt/isilon/mkhan/scan2brep_abl/test/BRepEd/version_7/\"\n",
    "SCAN_PATH=\"/data/3d_cluster/ABC_filter/obj/\"\n",
    "\n",
    "all_files_abc=get_files_scan(os.path.join(CC3D_BDN_PATH,\"bndry\",\"pred\"))"
   ]
  },
  {
   "cell_type": "code",
   "execution_count": 13,
   "metadata": {},
   "outputs": [
    {
     "data": {
      "application/vnd.jupyter.widget-view+json": {
       "model_id": "b30438e914d542a692cac7a91076d955",
       "version_major": 2,
       "version_minor": 0
      },
      "text/plain": [
       "  0%|          | 0/955 [00:00<?, ?it/s]"
      ]
     },
     "metadata": {},
     "output_type": "display_data"
    }
   ],
   "source": [
    "import traceback\n",
    "output_path=\"/mnt/isilon/mkhan/scan2brep_abl/result/version_2_1\"\n",
    "if not os.path.exists(output_path):\n",
    "    os.makedirs(output_path)\n",
    "i=0\n",
    "for path in tqdm(all_files_abc):\n",
    "    # original scan\n",
    "    try:\n",
    "        name=\"/\".join(path.split(\"/\")[-3:]).strip(\".npy\")\n",
    "        \n",
    "        # Model with PPL \n",
    "        pred_ppl=(np.load(path)>0.56).astype(int)\n",
    "        gt_bndry=np.load(os.path.join(CC3D_BDN_PATH,\"bndry\",\"gt\",name)+\".npy\")\n",
    "        scan_ppl=np.asarray(read_ply_file(os.path.join(CC3D_BDN_PATH,\"scan\",name)+\".ply\").points)\n",
    "\n",
    "        # Model without PPL\n",
    "        pred_wo_ppl=(np.load(os.path.join(PPL_BDN_PATH,\"bndry\",\"pred\",name)+\".npy\")>0.56).astype(int)\n",
    "        scan_wo_ppl=np.asarray(read_ply_file(os.path.join(PPL_BDN_PATH,\"scan\",name)+\".ply\").points)\n",
    "        pred_wo_ppl=point_label_mapper(scan_wo_ppl,pred_wo_ppl,scan_ppl)\n",
    "        \n",
    "        # For boundary\n",
    "        mainPcd=create_pcd_with_colors(scan_ppl,gt_bndry,[0.0,0.0,0.0])+\\\n",
    "            create_pcd_with_colors(scan_ppl,pred_ppl,[3.0,0.0,0.0])+\\\n",
    "            create_pcd_with_colors(scan_ppl,pred_wo_ppl,[6.0,0.0,0.0]) \n",
    "\n",
    "        o3d.io.write_point_cloud(os.path.join(output_path,name.split(\"/\")[-1]+\".ply\"),mainPcd)\n",
    "        \n",
    "    except Exception as e:\n",
    "        #print(traceback.print_exc())\n",
    "        #break\n",
    "        pass\n"
   ]
  },
  {
   "cell_type": "code",
   "execution_count": null,
   "metadata": {},
   "outputs": [],
   "source": []
  }
 ],
 "metadata": {
  "kernelspec": {
   "display_name": "scan2brep",
   "language": "python",
   "name": "python3"
  },
  "language_info": {
   "codemirror_mode": {
    "name": "ipython",
    "version": 3
   },
   "file_extension": ".py",
   "mimetype": "text/x-python",
   "name": "python",
   "nbconvert_exporter": "python",
   "pygments_lexer": "ipython3",
   "version": "3.8.18"
  }
 },
 "nbformat": 4,
 "nbformat_minor": 2
}
