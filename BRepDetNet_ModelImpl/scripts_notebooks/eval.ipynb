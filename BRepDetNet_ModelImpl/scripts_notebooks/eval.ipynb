{
 "cells": [
  {
   "cell_type": "code",
   "execution_count": 1,
   "metadata": {},
   "outputs": [],
   "source": [
    "import pandas as pd\n",
    "import numpy as np\n",
    "import matplotlib.pyplot as plt\n",
    "import seaborn as sns\n",
    "import concurrent\n",
    "import os,sys\n",
    "from sklearn.metrics import precision_recall_curve,confusion_matrix,precision_score,recall_score"
   ]
  },
  {
   "cell_type": "code",
   "execution_count": 2,
   "metadata": {},
   "outputs": [],
   "source": [
    "def get_files_scan_one_cpu(dir):\n",
    "    \"\"\"Get the path of all the files in nested folders\"\"\"\n",
    "    all_files = []\n",
    "    for entry in os.scandir(dir):\n",
    "        if entry.is_file():\n",
    "            all_files.append(entry.path)\n",
    "        elif entry.is_dir():\n",
    "            all_files.extend(get_files_scan(entry.path))\n",
    "    if len(all_files) > 0:\n",
    "        return all_files\n",
    "    else:\n",
    "        raise FileNotFoundError(\"No Files found. Please check your directory.\")\n",
    "\n",
    "def scan_files_in_folder(folder):\n",
    "    \"\"\"Scans files in a folder and returns a list of file paths.\"\"\"\n",
    "    files = []\n",
    "    for entry in os.scandir(folder):\n",
    "        if entry.is_file():\n",
    "            files.append(entry.path)\n",
    "        elif entry.is_dir():\n",
    "            files.extend(scan_files_in_folder(entry.path))\n",
    "    return files\n",
    "\n",
    "def get_files_scan(dir,max_workers=1):\n",
    "    \"\"\"Get the path of all the files in nested folders using concurrent.futures.\"\"\"\n",
    "    all_files = []\n",
    "    if max_workers==1:\n",
    "        return get_files_scan_one_cpu(dir)\n",
    "    else:\n",
    "        with concurrent.futures.ThreadPoolExecutor(max_workers=max_workers) as executor:\n",
    "            future_to_dir = {executor.submit(scan_files_in_folder, entry.path): entry.path for entry in os.scandir(dir)}\n",
    "            for future in concurrent.futures.as_completed(future_to_dir):\n",
    "                folder = future_to_dir[future]\n",
    "                try:\n",
    "                    all_files.extend(future.result())\n",
    "                except Exception as e:\n",
    "                    print(f\"An error occurred while scanning {folder}: {e}\")\n",
    "\n",
    "        if len(all_files) > 0:\n",
    "            return all_files\n",
    "        else:\n",
    "            raise FileNotFoundError(\"No Files found. Please check your directory.\")"
   ]
  },
  {
   "cell_type": "code",
   "execution_count": 3,
   "metadata": {},
   "outputs": [],
   "source": [
    "CC3D_BDN_PATH=\"/mnt/isilon/mkhan/scan2brep/test/BRepEd/version_7\"\n",
    "ABC_BDN_PATH=\"/mnt/isilon/mkhan/scan2brep/test/BRepEd/version_12/\""
   ]
  },
  {
   "cell_type": "markdown",
   "metadata": {},
   "source": [
    "# CC3D - Boundary (Model Trained on CC3D and Tested on CC3D)"
   ]
  },
  {
   "cell_type": "code",
   "execution_count": 4,
   "metadata": {},
   "outputs": [
    {
     "ename": "NameError",
     "evalue": "name 'os' is not defined",
     "output_type": "error",
     "traceback": [
      "\u001b[0;31m---------------------------------------------------------------------------\u001b[0m",
      "\u001b[0;31mNameError\u001b[0m                                 Traceback (most recent call last)",
      "Cell \u001b[0;32mIn[4], line 1\u001b[0m\n\u001b[0;32m----> 1\u001b[0m cc3d_bndry_gt_files\u001b[38;5;241m=\u001b[39mget_files_scan(\u001b[43mos\u001b[49m\u001b[38;5;241m.\u001b[39mpath\u001b[38;5;241m.\u001b[39mjoin(CC3D_BDN_PATH,\u001b[38;5;124m\"\u001b[39m\u001b[38;5;124mbndry\u001b[39m\u001b[38;5;124m\"\u001b[39m,\u001b[38;5;124m\"\u001b[39m\u001b[38;5;124mgt\u001b[39m\u001b[38;5;124m\"\u001b[39m),\u001b[38;5;241m4\u001b[39m)\n\u001b[1;32m      2\u001b[0m cc3d_bndry_pred_files\u001b[38;5;241m=\u001b[39mget_files_scan(os\u001b[38;5;241m.\u001b[39mpath\u001b[38;5;241m.\u001b[39mjoin(CC3D_BDN_PATH,\u001b[38;5;124m\"\u001b[39m\u001b[38;5;124mbndry\u001b[39m\u001b[38;5;124m\"\u001b[39m,\u001b[38;5;124m\"\u001b[39m\u001b[38;5;124mpred\u001b[39m\u001b[38;5;124m\"\u001b[39m),\u001b[38;5;241m4\u001b[39m)\n",
      "\u001b[0;31mNameError\u001b[0m: name 'os' is not defined"
     ]
    }
   ],
   "source": [
    "cc3d_bndry_gt_files=get_files_scan(os.path.join(CC3D_BDN_PATH,\"bndry\",\"gt\"),4)\n",
    "cc3d_bndry_pred_files=get_files_scan(os.path.join(CC3D_BDN_PATH,\"bndry\",\"pred\"),4)"
   ]
  },
  {
   "cell_type": "code",
   "execution_count": 34,
   "metadata": {},
   "outputs": [],
   "source": [
    "all_precision_scores=[]\n",
    "all_recall_scores=[]\n",
    "for i in range(len(cc3d_bndry_gt_files)):\n",
    "    gt_bndry=np.load(cc3d_bndry_gt_files[i])\n",
    "    pred_bndry=np.load(\"/\".join(cc3d_bndry_gt_files[i].split(\"/\")[:-4]+[\"pred\"]+\\\n",
    "                                cc3d_bndry_gt_files[i].split(\"/\")[-3:]))\n",
    "    \n",
    "    all_precision_scores.append(precision_score(gt_bndry,pred_bndry))\n",
    "    all_recall_scores.append(recall_score(gt_bndry,pred_bndry))"
   ]
  },
  {
   "cell_type": "code",
   "execution_count": 56,
   "metadata": {},
   "outputs": [
    {
     "name": "stdout",
     "output_type": "stream",
     "text": [
      "CC3D Boundary Detection Precision: 0.7342675813925931\n",
      "CC3D Boundary Detection Recall: 0.679637856415947\n"
     ]
    }
   ],
   "source": [
    "print(f\"CC3D Boundary Detection Precision: {np.mean(all_precision_scores)}\")\n",
    "print(f\"CC3D Boundary Detection Recall: {np.mean(all_recall_scores)}\")"
   ]
  },
  {
   "cell_type": "markdown",
   "metadata": {},
   "source": [
    "# CC3D - JNC (Model Trained on CC3D and Tested on CC3D)"
   ]
  },
  {
   "cell_type": "code",
   "execution_count": 41,
   "metadata": {},
   "outputs": [],
   "source": [
    "cc3d_jnc_gt_files=get_files_scan(os.path.join(CC3D_BDN_PATH,\"jnc\",\"gt\"),4)\n",
    "cc3d_jnc_pred_files=get_files_scan(os.path.join(CC3D_BDN_PATH,\"jnc\",\"pred\"),4)"
   ]
  },
  {
   "cell_type": "code",
   "execution_count": 42,
   "metadata": {},
   "outputs": [],
   "source": [
    "all_precision_scores_jnc=[]\n",
    "all_recall_scores_jnc=[]\n",
    "for i in range(len(cc3d_jnc_gt_files)):\n",
    "    gt_jnc=np.load(cc3d_jnc_gt_files[i])\n",
    "    pred_jnc=np.load(\"/\".join(cc3d_jnc_gt_files[i].split(\"/\")[:-4]+[\"pred\"]+\\\n",
    "                                cc3d_jnc_gt_files[i].split(\"/\")[-3:]))\n",
    "    \n",
    "    all_precision_scores_jnc.append(precision_score(gt_jnc,pred_jnc))\n",
    "    all_recall_scores_jnc.append(recall_score(gt_jnc,pred_jnc))"
   ]
  },
  {
   "cell_type": "code",
   "execution_count": 57,
   "metadata": {},
   "outputs": [
    {
     "name": "stdout",
     "output_type": "stream",
     "text": [
      "CC3D Junction Detection Precision: 0.15777425107907497\n",
      "CC3D Junction Detection Recall: 0.7959275712926798\n"
     ]
    }
   ],
   "source": [
    "print(f\"CC3D Junction Detection Precision: {np.mean(all_precision_scores_jnc)}\")\n",
    "print(f\"CC3D Junction Detection Recall: {np.mean(all_recall_scores_jnc)}\")"
   ]
  },
  {
   "cell_type": "markdown",
   "metadata": {},
   "source": [
    "# ABC - BNDRY (Model Trained on ABC and Tested on ABC)"
   ]
  },
  {
   "cell_type": "code",
   "execution_count": 4,
   "metadata": {},
   "outputs": [],
   "source": [
    "abc_bndry_gt_files=get_files_scan(os.path.join(ABC_BDN_PATH,\"bndry\",\"gt\"),4)\n",
    "abc_bndry_pred_files=get_files_scan(os.path.join(ABC_BDN_PATH,\"bndry\",\"pred\"),4)"
   ]
  },
  {
   "cell_type": "code",
   "execution_count": 82,
   "metadata": {},
   "outputs": [
    {
     "ename": "ValueError",
     "evalue": "Classification metrics can't handle a mix of binary and continuous targets",
     "output_type": "error",
     "traceback": [
      "\u001b[0;31m---------------------------------------------------------------------------\u001b[0m",
      "\u001b[0;31mValueError\u001b[0m                                Traceback (most recent call last)",
      "Cell \u001b[0;32mIn[82], line 8\u001b[0m\n\u001b[1;32m      4\u001b[0m gt_bndry\u001b[38;5;241m=\u001b[39mnp\u001b[38;5;241m.\u001b[39mload(abc_bndry_gt_files[i])\n\u001b[1;32m      5\u001b[0m pred_bndry\u001b[38;5;241m=\u001b[39mnp\u001b[38;5;241m.\u001b[39mload(\u001b[38;5;124m\"\u001b[39m\u001b[38;5;124m/\u001b[39m\u001b[38;5;124m\"\u001b[39m\u001b[38;5;241m.\u001b[39mjoin(abc_bndry_gt_files[i]\u001b[38;5;241m.\u001b[39msplit(\u001b[38;5;124m\"\u001b[39m\u001b[38;5;124m/\u001b[39m\u001b[38;5;124m\"\u001b[39m)[:\u001b[38;5;241m-\u001b[39m\u001b[38;5;241m4\u001b[39m]\u001b[38;5;241m+\u001b[39m[\u001b[38;5;124m\"\u001b[39m\u001b[38;5;124mpred\u001b[39m\u001b[38;5;124m\"\u001b[39m]\u001b[38;5;241m+\u001b[39m\\\n\u001b[1;32m      6\u001b[0m                             abc_bndry_gt_files[i]\u001b[38;5;241m.\u001b[39msplit(\u001b[38;5;124m\"\u001b[39m\u001b[38;5;124m/\u001b[39m\u001b[38;5;124m\"\u001b[39m)[\u001b[38;5;241m-\u001b[39m\u001b[38;5;241m3\u001b[39m:]))\n\u001b[0;32m----> 8\u001b[0m all_precision_scores_abc_bndry\u001b[38;5;241m.\u001b[39mappend(\u001b[43mprecision_score\u001b[49m\u001b[43m(\u001b[49m\u001b[43mgt_bndry\u001b[49m\u001b[43m,\u001b[49m\u001b[43mpred_bndry\u001b[49m\u001b[43m)\u001b[49m)\n\u001b[1;32m      9\u001b[0m all_recall_scores_abc_bndry\u001b[38;5;241m.\u001b[39mappend(recall_score(gt_bndry,pred_bndry))\n",
      "File \u001b[0;32m~/.conda/envs/scan2brep/lib/python3.8/site-packages/sklearn/utils/_param_validation.py:214\u001b[0m, in \u001b[0;36mvalidate_params.<locals>.decorator.<locals>.wrapper\u001b[0;34m(*args, **kwargs)\u001b[0m\n\u001b[1;32m    208\u001b[0m \u001b[38;5;28;01mtry\u001b[39;00m:\n\u001b[1;32m    209\u001b[0m     \u001b[38;5;28;01mwith\u001b[39;00m config_context(\n\u001b[1;32m    210\u001b[0m         skip_parameter_validation\u001b[38;5;241m=\u001b[39m(\n\u001b[1;32m    211\u001b[0m             prefer_skip_nested_validation \u001b[38;5;129;01mor\u001b[39;00m global_skip_validation\n\u001b[1;32m    212\u001b[0m         )\n\u001b[1;32m    213\u001b[0m     ):\n\u001b[0;32m--> 214\u001b[0m         \u001b[38;5;28;01mreturn\u001b[39;00m \u001b[43mfunc\u001b[49m\u001b[43m(\u001b[49m\u001b[38;5;241;43m*\u001b[39;49m\u001b[43margs\u001b[49m\u001b[43m,\u001b[49m\u001b[43m \u001b[49m\u001b[38;5;241;43m*\u001b[39;49m\u001b[38;5;241;43m*\u001b[39;49m\u001b[43mkwargs\u001b[49m\u001b[43m)\u001b[49m\n\u001b[1;32m    215\u001b[0m \u001b[38;5;28;01mexcept\u001b[39;00m InvalidParameterError \u001b[38;5;28;01mas\u001b[39;00m e:\n\u001b[1;32m    216\u001b[0m     \u001b[38;5;66;03m# When the function is just a wrapper around an estimator, we allow\u001b[39;00m\n\u001b[1;32m    217\u001b[0m     \u001b[38;5;66;03m# the function to delegate validation to the estimator, but we replace\u001b[39;00m\n\u001b[1;32m    218\u001b[0m     \u001b[38;5;66;03m# the name of the estimator by the name of the function in the error\u001b[39;00m\n\u001b[1;32m    219\u001b[0m     \u001b[38;5;66;03m# message to avoid confusion.\u001b[39;00m\n\u001b[1;32m    220\u001b[0m     msg \u001b[38;5;241m=\u001b[39m re\u001b[38;5;241m.\u001b[39msub(\n\u001b[1;32m    221\u001b[0m         \u001b[38;5;124mr\u001b[39m\u001b[38;5;124m\"\u001b[39m\u001b[38;5;124mparameter of \u001b[39m\u001b[38;5;124m\\\u001b[39m\u001b[38;5;124mw+ must be\u001b[39m\u001b[38;5;124m\"\u001b[39m,\n\u001b[1;32m    222\u001b[0m         \u001b[38;5;124mf\u001b[39m\u001b[38;5;124m\"\u001b[39m\u001b[38;5;124mparameter of \u001b[39m\u001b[38;5;132;01m{\u001b[39;00mfunc\u001b[38;5;241m.\u001b[39m\u001b[38;5;18m__qualname__\u001b[39m\u001b[38;5;132;01m}\u001b[39;00m\u001b[38;5;124m must be\u001b[39m\u001b[38;5;124m\"\u001b[39m,\n\u001b[1;32m    223\u001b[0m         \u001b[38;5;28mstr\u001b[39m(e),\n\u001b[1;32m    224\u001b[0m     )\n",
      "File \u001b[0;32m~/.conda/envs/scan2brep/lib/python3.8/site-packages/sklearn/metrics/_classification.py:2131\u001b[0m, in \u001b[0;36mprecision_score\u001b[0;34m(y_true, y_pred, labels, pos_label, average, sample_weight, zero_division)\u001b[0m\n\u001b[1;32m   1973\u001b[0m \u001b[38;5;129m@validate_params\u001b[39m(\n\u001b[1;32m   1974\u001b[0m     {\n\u001b[1;32m   1975\u001b[0m         \u001b[38;5;124m\"\u001b[39m\u001b[38;5;124my_true\u001b[39m\u001b[38;5;124m\"\u001b[39m: [\u001b[38;5;124m\"\u001b[39m\u001b[38;5;124marray-like\u001b[39m\u001b[38;5;124m\"\u001b[39m, \u001b[38;5;124m\"\u001b[39m\u001b[38;5;124msparse matrix\u001b[39m\u001b[38;5;124m\"\u001b[39m],\n\u001b[0;32m   (...)\u001b[0m\n\u001b[1;32m   2000\u001b[0m     zero_division\u001b[38;5;241m=\u001b[39m\u001b[38;5;124m\"\u001b[39m\u001b[38;5;124mwarn\u001b[39m\u001b[38;5;124m\"\u001b[39m,\n\u001b[1;32m   2001\u001b[0m ):\n\u001b[1;32m   2002\u001b[0m \u001b[38;5;250m    \u001b[39m\u001b[38;5;124;03m\"\"\"Compute the precision.\u001b[39;00m\n\u001b[1;32m   2003\u001b[0m \n\u001b[1;32m   2004\u001b[0m \u001b[38;5;124;03m    The precision is the ratio ``tp / (tp + fp)`` where ``tp`` is the number of\u001b[39;00m\n\u001b[0;32m   (...)\u001b[0m\n\u001b[1;32m   2129\u001b[0m \u001b[38;5;124;03m    array([0.5, 1. , 1. ])\u001b[39;00m\n\u001b[1;32m   2130\u001b[0m \u001b[38;5;124;03m    \"\"\"\u001b[39;00m\n\u001b[0;32m-> 2131\u001b[0m     p, _, _, _ \u001b[38;5;241m=\u001b[39m \u001b[43mprecision_recall_fscore_support\u001b[49m\u001b[43m(\u001b[49m\n\u001b[1;32m   2132\u001b[0m \u001b[43m        \u001b[49m\u001b[43my_true\u001b[49m\u001b[43m,\u001b[49m\n\u001b[1;32m   2133\u001b[0m \u001b[43m        \u001b[49m\u001b[43my_pred\u001b[49m\u001b[43m,\u001b[49m\n\u001b[1;32m   2134\u001b[0m \u001b[43m        \u001b[49m\u001b[43mlabels\u001b[49m\u001b[38;5;241;43m=\u001b[39;49m\u001b[43mlabels\u001b[49m\u001b[43m,\u001b[49m\n\u001b[1;32m   2135\u001b[0m \u001b[43m        \u001b[49m\u001b[43mpos_label\u001b[49m\u001b[38;5;241;43m=\u001b[39;49m\u001b[43mpos_label\u001b[49m\u001b[43m,\u001b[49m\n\u001b[1;32m   2136\u001b[0m \u001b[43m        \u001b[49m\u001b[43maverage\u001b[49m\u001b[38;5;241;43m=\u001b[39;49m\u001b[43maverage\u001b[49m\u001b[43m,\u001b[49m\n\u001b[1;32m   2137\u001b[0m \u001b[43m        \u001b[49m\u001b[43mwarn_for\u001b[49m\u001b[38;5;241;43m=\u001b[39;49m\u001b[43m(\u001b[49m\u001b[38;5;124;43m\"\u001b[39;49m\u001b[38;5;124;43mprecision\u001b[39;49m\u001b[38;5;124;43m\"\u001b[39;49m\u001b[43m,\u001b[49m\u001b[43m)\u001b[49m\u001b[43m,\u001b[49m\n\u001b[1;32m   2138\u001b[0m \u001b[43m        \u001b[49m\u001b[43msample_weight\u001b[49m\u001b[38;5;241;43m=\u001b[39;49m\u001b[43msample_weight\u001b[49m\u001b[43m,\u001b[49m\n\u001b[1;32m   2139\u001b[0m \u001b[43m        \u001b[49m\u001b[43mzero_division\u001b[49m\u001b[38;5;241;43m=\u001b[39;49m\u001b[43mzero_division\u001b[49m\u001b[43m,\u001b[49m\n\u001b[1;32m   2140\u001b[0m \u001b[43m    \u001b[49m\u001b[43m)\u001b[49m\n\u001b[1;32m   2141\u001b[0m     \u001b[38;5;28;01mreturn\u001b[39;00m p\n",
      "File \u001b[0;32m~/.conda/envs/scan2brep/lib/python3.8/site-packages/sklearn/utils/_param_validation.py:187\u001b[0m, in \u001b[0;36mvalidate_params.<locals>.decorator.<locals>.wrapper\u001b[0;34m(*args, **kwargs)\u001b[0m\n\u001b[1;32m    185\u001b[0m global_skip_validation \u001b[38;5;241m=\u001b[39m get_config()[\u001b[38;5;124m\"\u001b[39m\u001b[38;5;124mskip_parameter_validation\u001b[39m\u001b[38;5;124m\"\u001b[39m]\n\u001b[1;32m    186\u001b[0m \u001b[38;5;28;01mif\u001b[39;00m global_skip_validation:\n\u001b[0;32m--> 187\u001b[0m     \u001b[38;5;28;01mreturn\u001b[39;00m \u001b[43mfunc\u001b[49m\u001b[43m(\u001b[49m\u001b[38;5;241;43m*\u001b[39;49m\u001b[43margs\u001b[49m\u001b[43m,\u001b[49m\u001b[43m \u001b[49m\u001b[38;5;241;43m*\u001b[39;49m\u001b[38;5;241;43m*\u001b[39;49m\u001b[43mkwargs\u001b[49m\u001b[43m)\u001b[49m\n\u001b[1;32m    189\u001b[0m func_sig \u001b[38;5;241m=\u001b[39m signature(func)\n\u001b[1;32m    191\u001b[0m \u001b[38;5;66;03m# Map *args/**kwargs to the function signature\u001b[39;00m\n",
      "File \u001b[0;32m~/.conda/envs/scan2brep/lib/python3.8/site-packages/sklearn/metrics/_classification.py:1724\u001b[0m, in \u001b[0;36mprecision_recall_fscore_support\u001b[0;34m(y_true, y_pred, beta, labels, pos_label, average, warn_for, sample_weight, zero_division)\u001b[0m\n\u001b[1;32m   1566\u001b[0m \u001b[38;5;250m\u001b[39m\u001b[38;5;124;03m\"\"\"Compute precision, recall, F-measure and support for each class.\u001b[39;00m\n\u001b[1;32m   1567\u001b[0m \n\u001b[1;32m   1568\u001b[0m \u001b[38;5;124;03mThe precision is the ratio ``tp / (tp + fp)`` where ``tp`` is the number of\u001b[39;00m\n\u001b[0;32m   (...)\u001b[0m\n\u001b[1;32m   1721\u001b[0m \u001b[38;5;124;03m array([2, 2, 2]))\u001b[39;00m\n\u001b[1;32m   1722\u001b[0m \u001b[38;5;124;03m\"\"\"\u001b[39;00m\n\u001b[1;32m   1723\u001b[0m zero_division_value \u001b[38;5;241m=\u001b[39m _check_zero_division(zero_division)\n\u001b[0;32m-> 1724\u001b[0m labels \u001b[38;5;241m=\u001b[39m \u001b[43m_check_set_wise_labels\u001b[49m\u001b[43m(\u001b[49m\u001b[43my_true\u001b[49m\u001b[43m,\u001b[49m\u001b[43m \u001b[49m\u001b[43my_pred\u001b[49m\u001b[43m,\u001b[49m\u001b[43m \u001b[49m\u001b[43maverage\u001b[49m\u001b[43m,\u001b[49m\u001b[43m \u001b[49m\u001b[43mlabels\u001b[49m\u001b[43m,\u001b[49m\u001b[43m \u001b[49m\u001b[43mpos_label\u001b[49m\u001b[43m)\u001b[49m\n\u001b[1;32m   1726\u001b[0m \u001b[38;5;66;03m# Calculate tp_sum, pred_sum, true_sum ###\u001b[39;00m\n\u001b[1;32m   1727\u001b[0m samplewise \u001b[38;5;241m=\u001b[39m average \u001b[38;5;241m==\u001b[39m \u001b[38;5;124m\"\u001b[39m\u001b[38;5;124msamples\u001b[39m\u001b[38;5;124m\"\u001b[39m\n",
      "File \u001b[0;32m~/.conda/envs/scan2brep/lib/python3.8/site-packages/sklearn/metrics/_classification.py:1501\u001b[0m, in \u001b[0;36m_check_set_wise_labels\u001b[0;34m(y_true, y_pred, average, labels, pos_label)\u001b[0m\n\u001b[1;32m   1498\u001b[0m \u001b[38;5;28;01mif\u001b[39;00m average \u001b[38;5;129;01mnot\u001b[39;00m \u001b[38;5;129;01min\u001b[39;00m average_options \u001b[38;5;129;01mand\u001b[39;00m average \u001b[38;5;241m!=\u001b[39m \u001b[38;5;124m\"\u001b[39m\u001b[38;5;124mbinary\u001b[39m\u001b[38;5;124m\"\u001b[39m:\n\u001b[1;32m   1499\u001b[0m     \u001b[38;5;28;01mraise\u001b[39;00m \u001b[38;5;167;01mValueError\u001b[39;00m(\u001b[38;5;124m\"\u001b[39m\u001b[38;5;124maverage has to be one of \u001b[39m\u001b[38;5;124m\"\u001b[39m \u001b[38;5;241m+\u001b[39m \u001b[38;5;28mstr\u001b[39m(average_options))\n\u001b[0;32m-> 1501\u001b[0m y_type, y_true, y_pred \u001b[38;5;241m=\u001b[39m \u001b[43m_check_targets\u001b[49m\u001b[43m(\u001b[49m\u001b[43my_true\u001b[49m\u001b[43m,\u001b[49m\u001b[43m \u001b[49m\u001b[43my_pred\u001b[49m\u001b[43m)\u001b[49m\n\u001b[1;32m   1502\u001b[0m \u001b[38;5;66;03m# Convert to Python primitive type to avoid NumPy type / Python str\u001b[39;00m\n\u001b[1;32m   1503\u001b[0m \u001b[38;5;66;03m# comparison. See https://github.com/numpy/numpy/issues/6784\u001b[39;00m\n\u001b[1;32m   1504\u001b[0m present_labels \u001b[38;5;241m=\u001b[39m unique_labels(y_true, y_pred)\u001b[38;5;241m.\u001b[39mtolist()\n",
      "File \u001b[0;32m~/.conda/envs/scan2brep/lib/python3.8/site-packages/sklearn/metrics/_classification.py:93\u001b[0m, in \u001b[0;36m_check_targets\u001b[0;34m(y_true, y_pred)\u001b[0m\n\u001b[1;32m     90\u001b[0m     y_type \u001b[38;5;241m=\u001b[39m {\u001b[38;5;124m\"\u001b[39m\u001b[38;5;124mmulticlass\u001b[39m\u001b[38;5;124m\"\u001b[39m}\n\u001b[1;32m     92\u001b[0m \u001b[38;5;28;01mif\u001b[39;00m \u001b[38;5;28mlen\u001b[39m(y_type) \u001b[38;5;241m>\u001b[39m \u001b[38;5;241m1\u001b[39m:\n\u001b[0;32m---> 93\u001b[0m     \u001b[38;5;28;01mraise\u001b[39;00m \u001b[38;5;167;01mValueError\u001b[39;00m(\n\u001b[1;32m     94\u001b[0m         \u001b[38;5;124m\"\u001b[39m\u001b[38;5;124mClassification metrics can\u001b[39m\u001b[38;5;124m'\u001b[39m\u001b[38;5;124mt handle a mix of \u001b[39m\u001b[38;5;132;01m{0}\u001b[39;00m\u001b[38;5;124m and \u001b[39m\u001b[38;5;132;01m{1}\u001b[39;00m\u001b[38;5;124m targets\u001b[39m\u001b[38;5;124m\"\u001b[39m\u001b[38;5;241m.\u001b[39mformat(\n\u001b[1;32m     95\u001b[0m             type_true, type_pred\n\u001b[1;32m     96\u001b[0m         )\n\u001b[1;32m     97\u001b[0m     )\n\u001b[1;32m     99\u001b[0m \u001b[38;5;66;03m# We can't have more than one value on y_type => The set is no more needed\u001b[39;00m\n\u001b[1;32m    100\u001b[0m y_type \u001b[38;5;241m=\u001b[39m y_type\u001b[38;5;241m.\u001b[39mpop()\n",
      "\u001b[0;31mValueError\u001b[0m: Classification metrics can't handle a mix of binary and continuous targets"
     ]
    }
   ],
   "source": [
    "all_precision_scores_abc_bndry=[]\n",
    "all_recall_scores_abc_bndry=[]\n",
    "for i in range(len(abc_bndry_gt_files)):\n",
    "    gt_bndry=np.load(abc_bndry_gt_files[i])\n",
    "    pred_bndry=np.load(\"/\".join(abc_bndry_gt_files[i].split(\"/\")[:-4]+[\"pred\"]+\\\n",
    "                                abc_bndry_gt_files[i].split(\"/\")[-3:]))\n",
    "    \n",
    "    all_precision_scores_abc_bndry.append(precision_score(gt_bndry,pred_bndry))\n",
    "    all_recall_scores_abc_bndry.append(recall_score(gt_bndry,pred_bndry))"
   ]
  },
  {
   "cell_type": "code",
   "execution_count": 61,
   "metadata": {},
   "outputs": [
    {
     "name": "stdout",
     "output_type": "stream",
     "text": [
      "ABC Boundary Detection Precision: 0.646874226634183\n",
      "ABC Boundary Detection Recall: 0.5292544282680605\n"
     ]
    }
   ],
   "source": [
    "print(f\"ABC Boundary Detection Precision: {np.mean(all_precision_scores_abc_bndry)}\")\n",
    "print(f\"ABC Boundary Detection Recall: {np.mean(all_recall_scores_abc_bndry)}\")"
   ]
  },
  {
   "cell_type": "markdown",
   "metadata": {},
   "source": [
    "# ABC - JNC (Model Trained on ABC and Tested on ABC)"
   ]
  },
  {
   "cell_type": "code",
   "execution_count": 59,
   "metadata": {},
   "outputs": [],
   "source": [
    "abc_jnc_gt_files=get_files_scan(os.path.join(ABC_BDN_PATH,\"jnc\",\"gt\"),4)\n",
    "abc_jnc_pred_files=get_files_scan(os.path.join(ABC_BDN_PATH,\"jnc\",\"pred\"),4)"
   ]
  },
  {
   "cell_type": "code",
   "execution_count": 60,
   "metadata": {},
   "outputs": [],
   "source": [
    "all_precision_scores_abc_jnc=[]\n",
    "all_recall_scores_abc_jnc=[]\n",
    "for i in range(len(abc_jnc_gt_files)):\n",
    "    gt_jnc=np.load(abc_jnc_gt_files[i])\n",
    "    pred_jnc=np.load(\"/\".join(abc_jnc_gt_files[i].split(\"/\")[:-4]+[\"pred\"]+\\\n",
    "                                abc_jnc_gt_files[i].split(\"/\")[-3:]))\n",
    "    \n",
    "    all_precision_scores_abc_jnc.append(precision_score(gt_jnc,pred_jnc))\n",
    "    all_recall_scores_abc_jnc.append(recall_score(gt_jnc,pred_jnc))"
   ]
  },
  {
   "cell_type": "code",
   "execution_count": 62,
   "metadata": {},
   "outputs": [
    {
     "name": "stdout",
     "output_type": "stream",
     "text": [
      "ABC Junction Detection Precision: 0.2275767590777098\n",
      "ABC Junction Detection Recall: 0.7578537525156863\n"
     ]
    }
   ],
   "source": [
    "print(f\"ABC Junction Detection Precision: {np.mean(all_precision_scores_abc_jnc)}\")\n",
    "print(f\"ABC Junction Detection Recall: {np.mean(all_recall_scores_abc_jnc)}\")"
   ]
  },
  {
   "cell_type": "markdown",
   "metadata": {},
   "source": [
    "# Summary"
   ]
  },
  {
   "cell_type": "code",
   "execution_count": 79,
   "metadata": {},
   "outputs": [
    {
     "name": "stdout",
     "output_type": "stream",
     "text": [
      "CC3D (Model Trained on CC3D)\n",
      "   Boundary-->\n",
      "     Precision: 0.7343\n",
      "     Recall: 0.6796\n",
      "   Junction-->\n",
      "     Precision: 0.2276\n",
      "     Recall: 0.7579\n",
      "\n",
      "\n",
      "ABC (Model Trained on ABC)\n",
      "   Boundary-->\n",
      "     Precision: 0.6469\n",
      "     Recall: 0.5293\n",
      "   Junction-->\n",
      "     Precision: 0.1578\n",
      "     Recall: 0.7959\n"
     ]
    }
   ],
   "source": [
    "print(\"CC3D (Model Trained on CC3D)\")\n",
    "print(\"   Boundary-->\")\n",
    "print(f\"     Precision: {np.mean(all_precision_scores).round(4)}\")\n",
    "print(f\"     Recall: {np.mean(all_recall_scores).round(4)}\")\n",
    "print(\"   Junction-->\")\n",
    "print(f\"     Precision: {np.mean(all_precision_scores_abc_jnc).round(4)}\")\n",
    "print(f\"     Recall: {np.mean(all_recall_scores_abc_jnc).round(4)}\")\n",
    "print(\"\\n\")\n",
    "print(\"ABC (Model Trained on ABC)\")\n",
    "print(\"   Boundary-->\")\n",
    "print(f\"     Precision: {np.mean(all_precision_scores_abc_bndry).round(4)}\")\n",
    "print(f\"     Recall: {np.mean(all_recall_scores_abc_bndry).round(4)}\")\n",
    "print(\"   Junction-->\")\n",
    "print(f\"     Precision: {np.mean(all_precision_scores_jnc).round(4)}\")\n",
    "print(f\"     Recall: {np.mean(all_recall_scores_jnc).round(4)}\")"
   ]
  }
 ],
 "metadata": {
  "kernelspec": {
   "display_name": "scan2brep",
   "language": "python",
   "name": "python3"
  },
  "language_info": {
   "codemirror_mode": {
    "name": "ipython",
    "version": 3
   },
   "file_extension": ".py",
   "mimetype": "text/x-python",
   "name": "python",
   "nbconvert_exporter": "python",
   "pygments_lexer": "ipython3",
   "version": "3.8.18"
  }
 },
 "nbformat": 4,
 "nbformat_minor": 2
}
